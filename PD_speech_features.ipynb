{
 "cells": [
  {
   "cell_type": "code",
   "execution_count": 210,
   "id": "d64452b3",
   "metadata": {
    "_cell_guid": "b1076dfc-b9ad-4769-8c92-a6c4dae69d19",
    "_uuid": "8f2839f25d086af736a60e9eeb907d3b93b6e0e5",
    "execution": {
     "iopub.execute_input": "2022-05-23T23:52:04.194966Z",
     "iopub.status.busy": "2022-05-23T23:52:04.194414Z",
     "iopub.status.idle": "2022-05-23T23:52:04.615833Z",
     "shell.execute_reply": "2022-05-23T23:52:04.614881Z"
    },
    "papermill": {
     "duration": 0.501423,
     "end_time": "2022-05-23T23:52:04.618761",
     "exception": false,
     "start_time": "2022-05-23T23:52:04.117338",
     "status": "completed"
    },
    "tags": []
   },
   "outputs": [],
   "source": [
    "import numpy as np\n",
    "import pandas as pd\n",
    "from fastai.imports import *\n",
    "np.set_printoptions(linewidth=130)"
   ]
  },
  {
   "cell_type": "markdown",
   "id": "963b3840",
   "metadata": {
    "papermill": {
     "duration": 0.076015,
     "end_time": "2022-05-23T23:52:04.770832",
     "exception": false,
     "start_time": "2022-05-23T23:52:04.694817",
     "status": "completed"
    },
    "tags": []
   },
   "source": [
    "## Data preprocessing"
   ]
  },
  {
   "cell_type": "code",
   "execution_count": 211,
   "id": "8c16f049",
   "metadata": {
    "execution": {
     "iopub.execute_input": "2022-05-23T23:52:05.080498Z",
     "iopub.status.busy": "2022-05-23T23:52:05.079868Z",
     "iopub.status.idle": "2022-05-23T23:52:05.132162Z",
     "shell.execute_reply": "2022-05-23T23:52:05.131303Z"
    },
    "papermill": {
     "duration": 0.131266,
     "end_time": "2022-05-23T23:52:05.134686",
     "exception": false,
     "start_time": "2022-05-23T23:52:05.003420",
     "status": "completed"
    },
    "scrolled": true,
    "tags": []
   },
   "outputs": [
    {
     "data": {
      "text/html": [
       "<div>\n",
       "<style scoped>\n",
       "    .dataframe tbody tr th:only-of-type {\n",
       "        vertical-align: middle;\n",
       "    }\n",
       "\n",
       "    .dataframe tbody tr th {\n",
       "        vertical-align: top;\n",
       "    }\n",
       "\n",
       "    .dataframe thead th {\n",
       "        text-align: right;\n",
       "    }\n",
       "</style>\n",
       "<table border=\"1\" class=\"dataframe\">\n",
       "  <thead>\n",
       "    <tr style=\"text-align: right;\">\n",
       "      <th></th>\n",
       "      <th>id</th>\n",
       "      <th>gender</th>\n",
       "      <th>PPE</th>\n",
       "      <th>DFA</th>\n",
       "      <th>RPDE</th>\n",
       "      <th>numPulses</th>\n",
       "      <th>numPeriodsPulses</th>\n",
       "      <th>meanPeriodPulses</th>\n",
       "      <th>stdDevPeriodPulses</th>\n",
       "      <th>locPctJitter</th>\n",
       "      <th>...</th>\n",
       "      <th>tqwt_kurtosisValue_dec_28</th>\n",
       "      <th>tqwt_kurtosisValue_dec_29</th>\n",
       "      <th>tqwt_kurtosisValue_dec_30</th>\n",
       "      <th>tqwt_kurtosisValue_dec_31</th>\n",
       "      <th>tqwt_kurtosisValue_dec_32</th>\n",
       "      <th>tqwt_kurtosisValue_dec_33</th>\n",
       "      <th>tqwt_kurtosisValue_dec_34</th>\n",
       "      <th>tqwt_kurtosisValue_dec_35</th>\n",
       "      <th>tqwt_kurtosisValue_dec_36</th>\n",
       "      <th>class</th>\n",
       "    </tr>\n",
       "  </thead>\n",
       "  <tbody>\n",
       "    <tr>\n",
       "      <th>1</th>\n",
       "      <td>0</td>\n",
       "      <td>1</td>\n",
       "      <td>0.85247</td>\n",
       "      <td>0.71826</td>\n",
       "      <td>0.57227</td>\n",
       "      <td>240</td>\n",
       "      <td>239</td>\n",
       "      <td>0.00806353</td>\n",
       "      <td>8.68E-05</td>\n",
       "      <td>0.00218</td>\n",
       "      <td>...</td>\n",
       "      <td>1.562</td>\n",
       "      <td>2.6445</td>\n",
       "      <td>3.8686</td>\n",
       "      <td>4.2105</td>\n",
       "      <td>5.1221</td>\n",
       "      <td>4.4625</td>\n",
       "      <td>2.6202</td>\n",
       "      <td>3.0004</td>\n",
       "      <td>18.9405</td>\n",
       "      <td>1</td>\n",
       "    </tr>\n",
       "    <tr>\n",
       "      <th>2</th>\n",
       "      <td>0</td>\n",
       "      <td>1</td>\n",
       "      <td>0.76686</td>\n",
       "      <td>0.69481</td>\n",
       "      <td>0.53966</td>\n",
       "      <td>234</td>\n",
       "      <td>233</td>\n",
       "      <td>0.008258256</td>\n",
       "      <td>7.31E-05</td>\n",
       "      <td>0.00195</td>\n",
       "      <td>...</td>\n",
       "      <td>1.5589</td>\n",
       "      <td>3.6107</td>\n",
       "      <td>23.5155</td>\n",
       "      <td>14.1962</td>\n",
       "      <td>11.0261</td>\n",
       "      <td>9.5082</td>\n",
       "      <td>6.5245</td>\n",
       "      <td>6.3431</td>\n",
       "      <td>45.178</td>\n",
       "      <td>1</td>\n",
       "    </tr>\n",
       "    <tr>\n",
       "      <th>3</th>\n",
       "      <td>0</td>\n",
       "      <td>1</td>\n",
       "      <td>0.85083</td>\n",
       "      <td>0.67604</td>\n",
       "      <td>0.58982</td>\n",
       "      <td>232</td>\n",
       "      <td>231</td>\n",
       "      <td>0.00833959</td>\n",
       "      <td>6.04E-05</td>\n",
       "      <td>0.00176</td>\n",
       "      <td>...</td>\n",
       "      <td>1.5643</td>\n",
       "      <td>2.3308</td>\n",
       "      <td>9.4959</td>\n",
       "      <td>10.7458</td>\n",
       "      <td>11.0177</td>\n",
       "      <td>4.8066</td>\n",
       "      <td>2.9199</td>\n",
       "      <td>3.1495</td>\n",
       "      <td>4.7666</td>\n",
       "      <td>1</td>\n",
       "    </tr>\n",
       "    <tr>\n",
       "      <th>4</th>\n",
       "      <td>1</td>\n",
       "      <td>0</td>\n",
       "      <td>0.41121</td>\n",
       "      <td>0.79672</td>\n",
       "      <td>0.59257</td>\n",
       "      <td>178</td>\n",
       "      <td>177</td>\n",
       "      <td>0.010857733</td>\n",
       "      <td>0.000182739</td>\n",
       "      <td>0.00419</td>\n",
       "      <td>...</td>\n",
       "      <td>3.7805</td>\n",
       "      <td>3.5664</td>\n",
       "      <td>5.2558</td>\n",
       "      <td>14.0403</td>\n",
       "      <td>4.2235</td>\n",
       "      <td>4.6857</td>\n",
       "      <td>4.846</td>\n",
       "      <td>6.265</td>\n",
       "      <td>4.0603</td>\n",
       "      <td>1</td>\n",
       "    </tr>\n",
       "    <tr>\n",
       "      <th>5</th>\n",
       "      <td>1</td>\n",
       "      <td>0</td>\n",
       "      <td>0.3279</td>\n",
       "      <td>0.79782</td>\n",
       "      <td>0.53028</td>\n",
       "      <td>236</td>\n",
       "      <td>235</td>\n",
       "      <td>0.008161574</td>\n",
       "      <td>0.002668863</td>\n",
       "      <td>0.00535</td>\n",
       "      <td>...</td>\n",
       "      <td>6.1727</td>\n",
       "      <td>5.8416</td>\n",
       "      <td>6.0805</td>\n",
       "      <td>5.7621</td>\n",
       "      <td>7.7817</td>\n",
       "      <td>11.6891</td>\n",
       "      <td>8.2103</td>\n",
       "      <td>5.0559</td>\n",
       "      <td>6.1164</td>\n",
       "      <td>1</td>\n",
       "    </tr>\n",
       "    <tr>\n",
       "      <th>...</th>\n",
       "      <td>...</td>\n",
       "      <td>...</td>\n",
       "      <td>...</td>\n",
       "      <td>...</td>\n",
       "      <td>...</td>\n",
       "      <td>...</td>\n",
       "      <td>...</td>\n",
       "      <td>...</td>\n",
       "      <td>...</td>\n",
       "      <td>...</td>\n",
       "      <td>...</td>\n",
       "      <td>...</td>\n",
       "      <td>...</td>\n",
       "      <td>...</td>\n",
       "      <td>...</td>\n",
       "      <td>...</td>\n",
       "      <td>...</td>\n",
       "      <td>...</td>\n",
       "      <td>...</td>\n",
       "      <td>...</td>\n",
       "      <td>...</td>\n",
       "    </tr>\n",
       "    <tr>\n",
       "      <th>752</th>\n",
       "      <td>250</td>\n",
       "      <td>0</td>\n",
       "      <td>0.80903</td>\n",
       "      <td>0.56355</td>\n",
       "      <td>0.28385</td>\n",
       "      <td>417</td>\n",
       "      <td>416</td>\n",
       "      <td>0.004626942</td>\n",
       "      <td>5.22E-05</td>\n",
       "      <td>0.00064</td>\n",
       "      <td>...</td>\n",
       "      <td>3.0706</td>\n",
       "      <td>3.019</td>\n",
       "      <td>3.1212</td>\n",
       "      <td>2.4921</td>\n",
       "      <td>3.5844</td>\n",
       "      <td>3.54</td>\n",
       "      <td>3.3805</td>\n",
       "      <td>3.2003</td>\n",
       "      <td>6.8671</td>\n",
       "      <td>0</td>\n",
       "    </tr>\n",
       "    <tr>\n",
       "      <th>753</th>\n",
       "      <td>250</td>\n",
       "      <td>0</td>\n",
       "      <td>0.16084</td>\n",
       "      <td>0.56499</td>\n",
       "      <td>0.59194</td>\n",
       "      <td>415</td>\n",
       "      <td>413</td>\n",
       "      <td>0.004549703</td>\n",
       "      <td>0.000219994</td>\n",
       "      <td>0.00143</td>\n",
       "      <td>...</td>\n",
       "      <td>1.9704</td>\n",
       "      <td>1.7451</td>\n",
       "      <td>1.8277</td>\n",
       "      <td>2.4976</td>\n",
       "      <td>5.2981</td>\n",
       "      <td>4.2616</td>\n",
       "      <td>6.3042</td>\n",
       "      <td>10.9058</td>\n",
       "      <td>28.417</td>\n",
       "      <td>0</td>\n",
       "    </tr>\n",
       "    <tr>\n",
       "      <th>754</th>\n",
       "      <td>251</td>\n",
       "      <td>0</td>\n",
       "      <td>0.88389</td>\n",
       "      <td>0.72335</td>\n",
       "      <td>0.46815</td>\n",
       "      <td>381</td>\n",
       "      <td>380</td>\n",
       "      <td>0.005069271</td>\n",
       "      <td>0.000102654</td>\n",
       "      <td>0.00076</td>\n",
       "      <td>...</td>\n",
       "      <td>51.5607</td>\n",
       "      <td>44.4641</td>\n",
       "      <td>26.1586</td>\n",
       "      <td>6.3076</td>\n",
       "      <td>2.8601</td>\n",
       "      <td>2.5361</td>\n",
       "      <td>3.5377</td>\n",
       "      <td>3.3545</td>\n",
       "      <td>5.0424</td>\n",
       "      <td>0</td>\n",
       "    </tr>\n",
       "    <tr>\n",
       "      <th>755</th>\n",
       "      <td>251</td>\n",
       "      <td>0</td>\n",
       "      <td>0.83782</td>\n",
       "      <td>0.7489</td>\n",
       "      <td>0.49823</td>\n",
       "      <td>340</td>\n",
       "      <td>339</td>\n",
       "      <td>0.005679019</td>\n",
       "      <td>5.51E-05</td>\n",
       "      <td>0.00092</td>\n",
       "      <td>...</td>\n",
       "      <td>19.1607</td>\n",
       "      <td>12.8312</td>\n",
       "      <td>8.9434</td>\n",
       "      <td>2.2044</td>\n",
       "      <td>1.9496</td>\n",
       "      <td>1.9664</td>\n",
       "      <td>2.6801</td>\n",
       "      <td>2.8332</td>\n",
       "      <td>3.7131</td>\n",
       "      <td>0</td>\n",
       "    </tr>\n",
       "    <tr>\n",
       "      <th>756</th>\n",
       "      <td>251</td>\n",
       "      <td>0</td>\n",
       "      <td>0.81304</td>\n",
       "      <td>0.76471</td>\n",
       "      <td>0.46374</td>\n",
       "      <td>340</td>\n",
       "      <td>339</td>\n",
       "      <td>0.005675776</td>\n",
       "      <td>3.71E-05</td>\n",
       "      <td>0.00078</td>\n",
       "      <td>...</td>\n",
       "      <td>62.9927</td>\n",
       "      <td>21.8152</td>\n",
       "      <td>9.2457</td>\n",
       "      <td>4.8555</td>\n",
       "      <td>3.0551</td>\n",
       "      <td>3.0415</td>\n",
       "      <td>4.0116</td>\n",
       "      <td>2.6217</td>\n",
       "      <td>3.1527</td>\n",
       "      <td>0</td>\n",
       "    </tr>\n",
       "  </tbody>\n",
       "</table>\n",
       "<p>756 rows × 755 columns</p>\n",
       "</div>"
      ],
      "text/plain": [
       "0     id gender      PPE      DFA     RPDE numPulses numPeriodsPulses  \\\n",
       "1      0      1  0.85247  0.71826  0.57227       240              239   \n",
       "2      0      1  0.76686  0.69481  0.53966       234              233   \n",
       "3      0      1  0.85083  0.67604  0.58982       232              231   \n",
       "4      1      0  0.41121  0.79672  0.59257       178              177   \n",
       "5      1      0   0.3279  0.79782  0.53028       236              235   \n",
       "..   ...    ...      ...      ...      ...       ...              ...   \n",
       "752  250      0  0.80903  0.56355  0.28385       417              416   \n",
       "753  250      0  0.16084  0.56499  0.59194       415              413   \n",
       "754  251      0  0.88389  0.72335  0.46815       381              380   \n",
       "755  251      0  0.83782   0.7489  0.49823       340              339   \n",
       "756  251      0  0.81304  0.76471  0.46374       340              339   \n",
       "\n",
       "0   meanPeriodPulses stdDevPeriodPulses locPctJitter  ...  \\\n",
       "1         0.00806353           8.68E-05      0.00218  ...   \n",
       "2        0.008258256           7.31E-05      0.00195  ...   \n",
       "3         0.00833959           6.04E-05      0.00176  ...   \n",
       "4        0.010857733        0.000182739      0.00419  ...   \n",
       "5        0.008161574        0.002668863      0.00535  ...   \n",
       "..               ...                ...          ...  ...   \n",
       "752      0.004626942           5.22E-05      0.00064  ...   \n",
       "753      0.004549703        0.000219994      0.00143  ...   \n",
       "754      0.005069271        0.000102654      0.00076  ...   \n",
       "755      0.005679019           5.51E-05      0.00092  ...   \n",
       "756      0.005675776           3.71E-05      0.00078  ...   \n",
       "\n",
       "0   tqwt_kurtosisValue_dec_28 tqwt_kurtosisValue_dec_29  \\\n",
       "1                       1.562                    2.6445   \n",
       "2                      1.5589                    3.6107   \n",
       "3                      1.5643                    2.3308   \n",
       "4                      3.7805                    3.5664   \n",
       "5                      6.1727                    5.8416   \n",
       "..                        ...                       ...   \n",
       "752                    3.0706                     3.019   \n",
       "753                    1.9704                    1.7451   \n",
       "754                   51.5607                   44.4641   \n",
       "755                   19.1607                   12.8312   \n",
       "756                   62.9927                   21.8152   \n",
       "\n",
       "0   tqwt_kurtosisValue_dec_30 tqwt_kurtosisValue_dec_31  \\\n",
       "1                      3.8686                    4.2105   \n",
       "2                     23.5155                   14.1962   \n",
       "3                      9.4959                   10.7458   \n",
       "4                      5.2558                   14.0403   \n",
       "5                      6.0805                    5.7621   \n",
       "..                        ...                       ...   \n",
       "752                    3.1212                    2.4921   \n",
       "753                    1.8277                    2.4976   \n",
       "754                   26.1586                    6.3076   \n",
       "755                    8.9434                    2.2044   \n",
       "756                    9.2457                    4.8555   \n",
       "\n",
       "0   tqwt_kurtosisValue_dec_32 tqwt_kurtosisValue_dec_33  \\\n",
       "1                      5.1221                    4.4625   \n",
       "2                     11.0261                    9.5082   \n",
       "3                     11.0177                    4.8066   \n",
       "4                      4.2235                    4.6857   \n",
       "5                      7.7817                   11.6891   \n",
       "..                        ...                       ...   \n",
       "752                    3.5844                      3.54   \n",
       "753                    5.2981                    4.2616   \n",
       "754                    2.8601                    2.5361   \n",
       "755                    1.9496                    1.9664   \n",
       "756                    3.0551                    3.0415   \n",
       "\n",
       "0   tqwt_kurtosisValue_dec_34 tqwt_kurtosisValue_dec_35  \\\n",
       "1                      2.6202                    3.0004   \n",
       "2                      6.5245                    6.3431   \n",
       "3                      2.9199                    3.1495   \n",
       "4                       4.846                     6.265   \n",
       "5                      8.2103                    5.0559   \n",
       "..                        ...                       ...   \n",
       "752                    3.3805                    3.2003   \n",
       "753                    6.3042                   10.9058   \n",
       "754                    3.5377                    3.3545   \n",
       "755                    2.6801                    2.8332   \n",
       "756                    4.0116                    2.6217   \n",
       "\n",
       "0   tqwt_kurtosisValue_dec_36 class  \n",
       "1                     18.9405     1  \n",
       "2                      45.178     1  \n",
       "3                      4.7666     1  \n",
       "4                      4.0603     1  \n",
       "5                      6.1164     1  \n",
       "..                        ...   ...  \n",
       "752                    6.8671     0  \n",
       "753                    28.417     0  \n",
       "754                    5.0424     0  \n",
       "755                    3.7131     0  \n",
       "756                    3.1527     0  \n",
       "\n",
       "[756 rows x 755 columns]"
      ]
     },
     "execution_count": 211,
     "metadata": {},
     "output_type": "execute_result"
    }
   ],
   "source": [
    "df = pd.read_csv('parkinsons/pd_speech_features.csv')\n",
    "df.columns=df.iloc[0]\n",
    "df = df.drop(index=0)\n",
    "modes = df.mode().iloc[0]\n",
    "df"
   ]
  },
  {
   "cell_type": "code",
   "execution_count": 213,
   "id": "1071c1a3",
   "metadata": {
    "execution": {
     "iopub.execute_input": "2022-05-23T23:52:05.438310Z",
     "iopub.status.busy": "2022-05-23T23:52:05.437730Z",
     "iopub.status.idle": "2022-05-23T23:52:05.458998Z",
     "shell.execute_reply": "2022-05-23T23:52:05.458205Z"
    },
    "papermill": {
     "duration": 0.099983,
     "end_time": "2022-05-23T23:52:05.461215",
     "exception": false,
     "start_time": "2022-05-23T23:52:05.361232",
     "status": "completed"
    },
    "tags": []
   },
   "outputs": [
    {
     "name": "stderr",
     "output_type": "stream",
     "text": [
      "D:\\anaconda3\\lib\\site-packages\\pandas\\core\\arraylike.py:397: RuntimeWarning: divide by zero encountered in log\n",
      "  result = getattr(ufunc, method)(*inputs, **kwargs)\n",
      "D:\\anaconda3\\lib\\site-packages\\pandas\\core\\arraylike.py:397: RuntimeWarning: invalid value encountered in log\n",
      "  result = getattr(ufunc, method)(*inputs, **kwargs)\n"
     ]
    }
   ],
   "source": [
    "def proc_data(df):\n",
    "    \n",
    "    mode_list = modes.sort_values(ascending=False).head(190).keys().tolist()\n",
    "    \n",
    "    df['PD'] = df['class']\n",
    "    \n",
    "    exclude = ['gender', 'PD']\n",
    "    flt_convert = [col for col in df.columns if col not in exclude]\n",
    "    df[flt_convert] = df[flt_convert].astype(np.float32)\n",
    "    \n",
    "    df['gender'] = pd.Categorical(df.gender)\n",
    "    df['PD'] = pd.Categorical(df.PD)\n",
    "    \n",
    "    for column in mode_list:\n",
    "        try:\n",
    "            df[column] = np.log(df[column])\n",
    "        except Exception as e:\n",
    "            print(f\"Error occurred in column: {column}\")\n",
    "            print(f\"Error message: {str(e)}\")\n",
    "    \n",
    "    df = df.drop(['id', 'class'], axis=1)\n",
    "\n",
    "proc_data(df)"
   ]
  },
  {
   "cell_type": "code",
   "execution_count": 214,
   "id": "fb965dc3",
   "metadata": {},
   "outputs": [
    {
     "data": {
      "text/html": [
       "<div>\n",
       "<style scoped>\n",
       "    .dataframe tbody tr th:only-of-type {\n",
       "        vertical-align: middle;\n",
       "    }\n",
       "\n",
       "    .dataframe tbody tr th {\n",
       "        vertical-align: top;\n",
       "    }\n",
       "\n",
       "    .dataframe thead th {\n",
       "        text-align: right;\n",
       "    }\n",
       "</style>\n",
       "<table border=\"1\" class=\"dataframe\">\n",
       "  <thead>\n",
       "    <tr style=\"text-align: right;\">\n",
       "      <th></th>\n",
       "      <th>gender</th>\n",
       "      <th>PPE</th>\n",
       "      <th>DFA</th>\n",
       "      <th>RPDE</th>\n",
       "      <th>numPulses</th>\n",
       "      <th>numPeriodsPulses</th>\n",
       "      <th>meanPeriodPulses</th>\n",
       "      <th>stdDevPeriodPulses</th>\n",
       "      <th>locPctJitter</th>\n",
       "      <th>locAbsJitter</th>\n",
       "      <th>...</th>\n",
       "      <th>tqwt_kurtosisValue_dec_28</th>\n",
       "      <th>tqwt_kurtosisValue_dec_29</th>\n",
       "      <th>tqwt_kurtosisValue_dec_30</th>\n",
       "      <th>tqwt_kurtosisValue_dec_31</th>\n",
       "      <th>tqwt_kurtosisValue_dec_32</th>\n",
       "      <th>tqwt_kurtosisValue_dec_33</th>\n",
       "      <th>tqwt_kurtosisValue_dec_34</th>\n",
       "      <th>tqwt_kurtosisValue_dec_35</th>\n",
       "      <th>tqwt_kurtosisValue_dec_36</th>\n",
       "      <th>PD</th>\n",
       "    </tr>\n",
       "  </thead>\n",
       "  <tbody>\n",
       "    <tr>\n",
       "      <th>1</th>\n",
       "      <td>1</td>\n",
       "      <td>0.85247</td>\n",
       "      <td>0.71826</td>\n",
       "      <td>0.57227</td>\n",
       "      <td>5.480639</td>\n",
       "      <td>5.476463</td>\n",
       "      <td>0.008064</td>\n",
       "      <td>-9.351904</td>\n",
       "      <td>0.00218</td>\n",
       "      <td>0.000018</td>\n",
       "      <td>...</td>\n",
       "      <td>1.562000</td>\n",
       "      <td>0.972482</td>\n",
       "      <td>1.352893</td>\n",
       "      <td>1.437581</td>\n",
       "      <td>1.633564</td>\n",
       "      <td>1.495709</td>\n",
       "      <td>0.963251</td>\n",
       "      <td>1.098746</td>\n",
       "      <td>2.941303</td>\n",
       "      <td>1</td>\n",
       "    </tr>\n",
       "    <tr>\n",
       "      <th>2</th>\n",
       "      <td>1</td>\n",
       "      <td>0.76686</td>\n",
       "      <td>0.69481</td>\n",
       "      <td>0.53966</td>\n",
       "      <td>5.455321</td>\n",
       "      <td>5.451038</td>\n",
       "      <td>0.008258</td>\n",
       "      <td>-9.523683</td>\n",
       "      <td>0.00195</td>\n",
       "      <td>0.000016</td>\n",
       "      <td>...</td>\n",
       "      <td>1.558900</td>\n",
       "      <td>1.283902</td>\n",
       "      <td>3.157660</td>\n",
       "      <td>2.652974</td>\n",
       "      <td>2.400265</td>\n",
       "      <td>2.252155</td>\n",
       "      <td>1.875564</td>\n",
       "      <td>1.847368</td>\n",
       "      <td>3.810610</td>\n",
       "      <td>1</td>\n",
       "    </tr>\n",
       "    <tr>\n",
       "      <th>3</th>\n",
       "      <td>1</td>\n",
       "      <td>0.85083</td>\n",
       "      <td>0.67604</td>\n",
       "      <td>0.58982</td>\n",
       "      <td>5.446737</td>\n",
       "      <td>5.442418</td>\n",
       "      <td>0.008340</td>\n",
       "      <td>-9.714521</td>\n",
       "      <td>0.00176</td>\n",
       "      <td>0.000015</td>\n",
       "      <td>...</td>\n",
       "      <td>1.564300</td>\n",
       "      <td>0.846212</td>\n",
       "      <td>2.250860</td>\n",
       "      <td>2.374515</td>\n",
       "      <td>2.399503</td>\n",
       "      <td>1.569990</td>\n",
       "      <td>1.071549</td>\n",
       "      <td>1.147244</td>\n",
       "      <td>1.561633</td>\n",
       "      <td>1</td>\n",
       "    </tr>\n",
       "    <tr>\n",
       "      <th>4</th>\n",
       "      <td>0</td>\n",
       "      <td>0.41121</td>\n",
       "      <td>0.79672</td>\n",
       "      <td>0.59257</td>\n",
       "      <td>5.181784</td>\n",
       "      <td>5.176150</td>\n",
       "      <td>0.010858</td>\n",
       "      <td>-8.607451</td>\n",
       "      <td>0.00419</td>\n",
       "      <td>0.000046</td>\n",
       "      <td>...</td>\n",
       "      <td>3.780500</td>\n",
       "      <td>1.271557</td>\n",
       "      <td>1.659332</td>\n",
       "      <td>2.641932</td>\n",
       "      <td>1.440664</td>\n",
       "      <td>1.544515</td>\n",
       "      <td>1.578154</td>\n",
       "      <td>1.834979</td>\n",
       "      <td>1.401257</td>\n",
       "      <td>1</td>\n",
       "    </tr>\n",
       "    <tr>\n",
       "      <th>5</th>\n",
       "      <td>0</td>\n",
       "      <td>0.32790</td>\n",
       "      <td>0.79782</td>\n",
       "      <td>0.53028</td>\n",
       "      <td>5.463832</td>\n",
       "      <td>5.459586</td>\n",
       "      <td>0.008162</td>\n",
       "      <td>-5.926103</td>\n",
       "      <td>0.00535</td>\n",
       "      <td>0.000044</td>\n",
       "      <td>...</td>\n",
       "      <td>6.172700</td>\n",
       "      <td>1.765005</td>\n",
       "      <td>1.805087</td>\n",
       "      <td>1.751302</td>\n",
       "      <td>2.051775</td>\n",
       "      <td>2.458657</td>\n",
       "      <td>2.105390</td>\n",
       "      <td>1.620556</td>\n",
       "      <td>1.810974</td>\n",
       "      <td>1</td>\n",
       "    </tr>\n",
       "    <tr>\n",
       "      <th>...</th>\n",
       "      <td>...</td>\n",
       "      <td>...</td>\n",
       "      <td>...</td>\n",
       "      <td>...</td>\n",
       "      <td>...</td>\n",
       "      <td>...</td>\n",
       "      <td>...</td>\n",
       "      <td>...</td>\n",
       "      <td>...</td>\n",
       "      <td>...</td>\n",
       "      <td>...</td>\n",
       "      <td>...</td>\n",
       "      <td>...</td>\n",
       "      <td>...</td>\n",
       "      <td>...</td>\n",
       "      <td>...</td>\n",
       "      <td>...</td>\n",
       "      <td>...</td>\n",
       "      <td>...</td>\n",
       "      <td>...</td>\n",
       "      <td>...</td>\n",
       "    </tr>\n",
       "    <tr>\n",
       "      <th>752</th>\n",
       "      <td>0</td>\n",
       "      <td>0.80903</td>\n",
       "      <td>0.56355</td>\n",
       "      <td>0.28385</td>\n",
       "      <td>6.033086</td>\n",
       "      <td>6.030685</td>\n",
       "      <td>0.004627</td>\n",
       "      <td>-9.860428</td>\n",
       "      <td>0.00064</td>\n",
       "      <td>0.000003</td>\n",
       "      <td>...</td>\n",
       "      <td>3.070600</td>\n",
       "      <td>1.104926</td>\n",
       "      <td>1.138218</td>\n",
       "      <td>0.913126</td>\n",
       "      <td>1.276591</td>\n",
       "      <td>1.264127</td>\n",
       "      <td>1.218024</td>\n",
       "      <td>1.163245</td>\n",
       "      <td>1.926742</td>\n",
       "      <td>0</td>\n",
       "    </tr>\n",
       "    <tr>\n",
       "      <th>753</th>\n",
       "      <td>0</td>\n",
       "      <td>0.16084</td>\n",
       "      <td>0.56499</td>\n",
       "      <td>0.59194</td>\n",
       "      <td>6.028278</td>\n",
       "      <td>6.023448</td>\n",
       "      <td>0.004550</td>\n",
       "      <td>-8.421910</td>\n",
       "      <td>0.00143</td>\n",
       "      <td>0.000006</td>\n",
       "      <td>...</td>\n",
       "      <td>1.970400</td>\n",
       "      <td>0.556812</td>\n",
       "      <td>0.603058</td>\n",
       "      <td>0.915330</td>\n",
       "      <td>1.667348</td>\n",
       "      <td>1.449645</td>\n",
       "      <td>1.841216</td>\n",
       "      <td>2.389295</td>\n",
       "      <td>3.346987</td>\n",
       "      <td>0</td>\n",
       "    </tr>\n",
       "    <tr>\n",
       "      <th>754</th>\n",
       "      <td>0</td>\n",
       "      <td>0.88389</td>\n",
       "      <td>0.72335</td>\n",
       "      <td>0.46815</td>\n",
       "      <td>5.942800</td>\n",
       "      <td>5.940171</td>\n",
       "      <td>0.005069</td>\n",
       "      <td>-9.184147</td>\n",
       "      <td>0.00076</td>\n",
       "      <td>0.000004</td>\n",
       "      <td>...</td>\n",
       "      <td>51.560699</td>\n",
       "      <td>3.794682</td>\n",
       "      <td>3.264178</td>\n",
       "      <td>1.841755</td>\n",
       "      <td>1.050857</td>\n",
       "      <td>0.930627</td>\n",
       "      <td>1.263477</td>\n",
       "      <td>1.210303</td>\n",
       "      <td>1.617882</td>\n",
       "      <td>0</td>\n",
       "    </tr>\n",
       "    <tr>\n",
       "      <th>755</th>\n",
       "      <td>0</td>\n",
       "      <td>0.83782</td>\n",
       "      <td>0.74890</td>\n",
       "      <td>0.49823</td>\n",
       "      <td>5.828946</td>\n",
       "      <td>5.826000</td>\n",
       "      <td>0.005679</td>\n",
       "      <td>-9.806361</td>\n",
       "      <td>0.00092</td>\n",
       "      <td>0.000005</td>\n",
       "      <td>...</td>\n",
       "      <td>19.160700</td>\n",
       "      <td>2.551880</td>\n",
       "      <td>2.190916</td>\n",
       "      <td>0.790455</td>\n",
       "      <td>0.667624</td>\n",
       "      <td>0.676205</td>\n",
       "      <td>0.985854</td>\n",
       "      <td>1.041407</td>\n",
       "      <td>1.311867</td>\n",
       "      <td>0</td>\n",
       "    </tr>\n",
       "    <tr>\n",
       "      <th>756</th>\n",
       "      <td>0</td>\n",
       "      <td>0.81304</td>\n",
       "      <td>0.76471</td>\n",
       "      <td>0.46374</td>\n",
       "      <td>5.828946</td>\n",
       "      <td>5.826000</td>\n",
       "      <td>0.005676</td>\n",
       "      <td>-10.201894</td>\n",
       "      <td>0.00078</td>\n",
       "      <td>0.000004</td>\n",
       "      <td>...</td>\n",
       "      <td>62.992699</td>\n",
       "      <td>3.082607</td>\n",
       "      <td>2.224159</td>\n",
       "      <td>1.580112</td>\n",
       "      <td>1.116812</td>\n",
       "      <td>1.112351</td>\n",
       "      <td>1.389190</td>\n",
       "      <td>0.963823</td>\n",
       "      <td>1.148259</td>\n",
       "      <td>0</td>\n",
       "    </tr>\n",
       "  </tbody>\n",
       "</table>\n",
       "<p>756 rows × 754 columns</p>\n",
       "</div>"
      ],
      "text/plain": [
       "0   gender      PPE      DFA     RPDE  numPulses  numPeriodsPulses  \\\n",
       "1        1  0.85247  0.71826  0.57227   5.480639          5.476463   \n",
       "2        1  0.76686  0.69481  0.53966   5.455321          5.451038   \n",
       "3        1  0.85083  0.67604  0.58982   5.446737          5.442418   \n",
       "4        0  0.41121  0.79672  0.59257   5.181784          5.176150   \n",
       "5        0  0.32790  0.79782  0.53028   5.463832          5.459586   \n",
       "..     ...      ...      ...      ...        ...               ...   \n",
       "752      0  0.80903  0.56355  0.28385   6.033086          6.030685   \n",
       "753      0  0.16084  0.56499  0.59194   6.028278          6.023448   \n",
       "754      0  0.88389  0.72335  0.46815   5.942800          5.940171   \n",
       "755      0  0.83782  0.74890  0.49823   5.828946          5.826000   \n",
       "756      0  0.81304  0.76471  0.46374   5.828946          5.826000   \n",
       "\n",
       "0    meanPeriodPulses  stdDevPeriodPulses  locPctJitter  locAbsJitter  ...  \\\n",
       "1            0.008064           -9.351904       0.00218      0.000018  ...   \n",
       "2            0.008258           -9.523683       0.00195      0.000016  ...   \n",
       "3            0.008340           -9.714521       0.00176      0.000015  ...   \n",
       "4            0.010858           -8.607451       0.00419      0.000046  ...   \n",
       "5            0.008162           -5.926103       0.00535      0.000044  ...   \n",
       "..                ...                 ...           ...           ...  ...   \n",
       "752          0.004627           -9.860428       0.00064      0.000003  ...   \n",
       "753          0.004550           -8.421910       0.00143      0.000006  ...   \n",
       "754          0.005069           -9.184147       0.00076      0.000004  ...   \n",
       "755          0.005679           -9.806361       0.00092      0.000005  ...   \n",
       "756          0.005676          -10.201894       0.00078      0.000004  ...   \n",
       "\n",
       "0    tqwt_kurtosisValue_dec_28  tqwt_kurtosisValue_dec_29  \\\n",
       "1                     1.562000                   0.972482   \n",
       "2                     1.558900                   1.283902   \n",
       "3                     1.564300                   0.846212   \n",
       "4                     3.780500                   1.271557   \n",
       "5                     6.172700                   1.765005   \n",
       "..                         ...                        ...   \n",
       "752                   3.070600                   1.104926   \n",
       "753                   1.970400                   0.556812   \n",
       "754                  51.560699                   3.794682   \n",
       "755                  19.160700                   2.551880   \n",
       "756                  62.992699                   3.082607   \n",
       "\n",
       "0    tqwt_kurtosisValue_dec_30  tqwt_kurtosisValue_dec_31  \\\n",
       "1                     1.352893                   1.437581   \n",
       "2                     3.157660                   2.652974   \n",
       "3                     2.250860                   2.374515   \n",
       "4                     1.659332                   2.641932   \n",
       "5                     1.805087                   1.751302   \n",
       "..                         ...                        ...   \n",
       "752                   1.138218                   0.913126   \n",
       "753                   0.603058                   0.915330   \n",
       "754                   3.264178                   1.841755   \n",
       "755                   2.190916                   0.790455   \n",
       "756                   2.224159                   1.580112   \n",
       "\n",
       "0    tqwt_kurtosisValue_dec_32  tqwt_kurtosisValue_dec_33  \\\n",
       "1                     1.633564                   1.495709   \n",
       "2                     2.400265                   2.252155   \n",
       "3                     2.399503                   1.569990   \n",
       "4                     1.440664                   1.544515   \n",
       "5                     2.051775                   2.458657   \n",
       "..                         ...                        ...   \n",
       "752                   1.276591                   1.264127   \n",
       "753                   1.667348                   1.449645   \n",
       "754                   1.050857                   0.930627   \n",
       "755                   0.667624                   0.676205   \n",
       "756                   1.116812                   1.112351   \n",
       "\n",
       "0    tqwt_kurtosisValue_dec_34  tqwt_kurtosisValue_dec_35  \\\n",
       "1                     0.963251                   1.098746   \n",
       "2                     1.875564                   1.847368   \n",
       "3                     1.071549                   1.147244   \n",
       "4                     1.578154                   1.834979   \n",
       "5                     2.105390                   1.620556   \n",
       "..                         ...                        ...   \n",
       "752                   1.218024                   1.163245   \n",
       "753                   1.841216                   2.389295   \n",
       "754                   1.263477                   1.210303   \n",
       "755                   0.985854                   1.041407   \n",
       "756                   1.389190                   0.963823   \n",
       "\n",
       "0    tqwt_kurtosisValue_dec_36  PD  \n",
       "1                     2.941303   1  \n",
       "2                     3.810610   1  \n",
       "3                     1.561633   1  \n",
       "4                     1.401257   1  \n",
       "5                     1.810974   1  \n",
       "..                         ...  ..  \n",
       "752                   1.926742   0  \n",
       "753                   3.346987   0  \n",
       "754                   1.617882   0  \n",
       "755                   1.311867   0  \n",
       "756                   1.148259   0  \n",
       "\n",
       "[756 rows x 754 columns]"
      ]
     },
     "execution_count": 214,
     "metadata": {},
     "output_type": "execute_result"
    }
   ],
   "source": [
    "df = df.drop(['id', 'class'], axis=1)\n",
    "df"
   ]
  },
  {
   "cell_type": "code",
   "execution_count": 215,
   "id": "3b0f95aa",
   "metadata": {},
   "outputs": [
    {
     "data": {
      "text/plain": [
       "0\n",
       "det_entropy_log_3_coef         550\n",
       "det_entropy_log_7_coef         422\n",
       "tqwt_meanValue_dec_26          397\n",
       "tqwt_medianValue_dec_22        390\n",
       "tqwt_meanValue_dec_23          388\n",
       "tqwt_medianValue_dec_14        380\n",
       "tqwt_meanValue_dec_20          379\n",
       "tqwt_meanValue_dec_9           374\n",
       "tqwt_medianValue_dec_32        370\n",
       "tqwt_meanValue_dec_6           367\n",
       "tqwt_meanValue_dec_25          363\n",
       "tqwt_meanValue_dec_17          358\n",
       "tqwt_meanValue_dec_3           355\n",
       "det_entropy_log_6_coef         353\n",
       "tqwt_medianValue_dec_11        350\n",
       "det_entropy_log_9_coef         313\n",
       "det_entropy_log_8_coef         269\n",
       "det_entropy_log_5_coef         257\n",
       "det_entropy_log_4_coef         202\n",
       "det_entropy_log_10_coef        135\n",
       "tqwt_entropy_shannon_dec_25     58\n",
       "tqwt_entropy_shannon_dec_26     56\n",
       "tqwt_entropy_shannon_dec_27     36\n",
       "tqwt_entropy_shannon_dec_24     29\n",
       "tqwt_entropy_shannon_dec_23      8\n",
       "tqwt_entropy_shannon_dec_18      5\n",
       "tqwt_entropy_shannon_dec_19      4\n",
       "tqwt_entropy_shannon_dec_20      2\n",
       "tqwt_entropy_shannon_dec_21      1\n",
       "tqwt_medianValue_dec_1           0\n",
       "tqwt_medianValue_dec_2           0\n",
       "tqwt_medianValue_dec_9           0\n",
       "tqwt_medianValue_dec_3           0\n",
       "tqwt_medianValue_dec_4           0\n",
       "tqwt_medianValue_dec_5           0\n",
       "tqwt_medianValue_dec_6           0\n",
       "tqwt_medianValue_dec_7           0\n",
       "tqwt_medianValue_dec_8           0\n",
       "tqwt_TKEO_std_dec_35             0\n",
       "tqwt_medianValue_dec_10          0\n",
       "tqwt_medianValue_dec_12          0\n",
       "tqwt_medianValue_dec_13          0\n",
       "tqwt_medianValue_dec_15          0\n",
       "tqwt_TKEO_std_dec_36             0\n",
       "tqwt_TKEO_std_dec_32             0\n",
       "tqwt_TKEO_std_dec_34             0\n",
       "tqwt_TKEO_std_dec_24             0\n",
       "tqwt_TKEO_std_dec_17             0\n",
       "tqwt_TKEO_std_dec_18             0\n",
       "tqwt_TKEO_std_dec_19             0\n",
       "dtype: int64"
      ]
     },
     "execution_count": 215,
     "metadata": {},
     "output_type": "execute_result"
    }
   ],
   "source": [
    "df.isna().sum().sort_values(ascending=False).head(50)"
   ]
  },
  {
   "cell_type": "code",
   "execution_count": 218,
   "id": "220ba2da",
   "metadata": {},
   "outputs": [
    {
     "data": {
      "text/plain": [
       "0\n",
       "gender                  0\n",
       "tqwt_TKEO_std_dec_30    0\n",
       "tqwt_TKEO_std_dec_32    0\n",
       "tqwt_TKEO_std_dec_33    0\n",
       "tqwt_TKEO_std_dec_34    0\n",
       "dtype: int64"
      ]
     },
     "execution_count": 218,
     "metadata": {},
     "output_type": "execute_result"
    }
   ],
   "source": [
    "df = df.dropna(axis=1)\n",
    "df.isna().sum().sort_values(ascending=False).head()"
   ]
  },
  {
   "cell_type": "code",
   "execution_count": 219,
   "id": "98336680",
   "metadata": {
    "execution": {
     "iopub.execute_input": "2022-05-23T23:52:05.767333Z",
     "iopub.status.busy": "2022-05-23T23:52:05.766770Z",
     "iopub.status.idle": "2022-05-23T23:52:05.771007Z",
     "shell.execute_reply": "2022-05-23T23:52:05.770353Z"
    },
    "papermill": {
     "duration": 0.082835,
     "end_time": "2022-05-23T23:52:05.772965",
     "exception": false,
     "start_time": "2022-05-23T23:52:05.690130",
     "status": "completed"
    },
    "tags": []
   },
   "outputs": [
    {
     "name": "stdout",
     "output_type": "stream",
     "text": [
      "['gender'] PD ['PPE', 'DFA', 'RPDE', 'numPulses', 'numPeriodsPulses', 'meanPeriodPulses', 'stdDevPeriodPulses', 'locPctJitter', 'locAbsJitter', 'rapJitter', 'ppq5Jitter', 'ddpJitter', 'locShimmer', 'locDbShimmer', 'apq3Shimmer', 'apq5Shimmer', 'apq11Shimmer', 'ddaShimmer', 'meanAutoCorrHarmonicity', 'meanNoiseToHarmHarmonicity', 'meanHarmToNoiseHarmonicity', 'minIntensity', 'maxIntensity', 'meanIntensity', 'f1', 'f2', 'f3', 'f4', 'b1', 'b2', 'b3', 'b4', 'GQ_prc5_95', 'GQ_std_cycle_open', 'GQ_std_cycle_closed', 'GNE_mean', 'GNE_std', 'GNE_SNR_TKEO', 'GNE_SNR_SEO', 'GNE_NSR_TKEO', 'GNE_NSR_SEO', 'VFER_mean', 'VFER_std', 'VFER_entropy', 'VFER_SNR_TKEO', 'VFER_SNR_SEO', 'VFER_NSR_TKEO', 'VFER_NSR_SEO', 'IMF_SNR_SEO', 'IMF_SNR_TKEO', 'IMF_SNR_entropy', 'IMF_NSR_SEO', 'IMF_NSR_TKEO', 'IMF_NSR_entropy', 'mean_Log_energy', 'mean_MFCC_0th_coef', 'mean_MFCC_1st_coef', 'mean_MFCC_2nd_coef', 'mean_MFCC_3rd_coef', 'mean_MFCC_4th_coef', 'mean_MFCC_5th_coef', 'mean_MFCC_6th_coef', 'mean_MFCC_7th_coef', 'mean_MFCC_8th_coef', 'mean_MFCC_9th_coef', 'mean_MFCC_10th_coef', 'mean_MFCC_11th_coef', 'mean_MFCC_12th_coef', 'mean_delta_log_energy', 'mean_0th_delta', 'mean_1st_delta', 'mean_2nd_delta', 'mean_3rd_delta', 'mean_4th_delta', 'mean_5th_delta', 'mean_6th_delta', 'mean_7th_delta', 'mean_8th_delta', 'mean_9th_delta', 'mean_10th_delta', 'mean_11th_delta', 'mean_12th_delta', 'mean_delta_delta_log_energy', 'mean_delta_delta_0th', 'mean_1st_delta_delta', 'mean_2nd_delta_delta', 'mean_3rd_delta_delta', 'mean_4th_delta_delta', 'mean_5th_delta_delta', 'mean_6th_delta_delta', 'mean_7th_delta_delta', 'mean_8th_delta_delta', 'mean_9th_delta_delta', 'mean_10th_delta_delta', 'mean_11th_delta_delta', 'mean_12th_delta_delta', 'std_Log_energy', 'std_MFCC_0th_coef', 'std_MFCC_1st_coef', 'std_MFCC_2nd_coef', 'std_MFCC_3rd_coef', 'std_MFCC_4th_coef', 'std_MFCC_5th_coef', 'std_MFCC_6th_coef', 'std_MFCC_7th_coef', 'std_MFCC_8th_coef', 'std_MFCC_9th_coef', 'std_MFCC_10th_coef', 'std_MFCC_11th_coef', 'std_MFCC_12th_coef', 'std_delta_log_energy', 'std_0th_delta', 'std_1st_delta', 'std_2nd_delta', 'std_3rd_delta', 'std_4th_delta', 'std_5th_delta', 'std_6th_delta', 'std_7th_delta', 'std_8th_delta', 'std_9th_delta', 'std_10th_delta', 'std_11th_delta', 'std_12th_delta', 'std_delta_delta_log_energy', 'std_delta_delta_0th', 'std_1st_delta_delta', 'std_2nd_delta_delta', 'std_3rd_delta_delta', 'std_4th_delta_delta', 'std_5th_delta_delta', 'std_6th_delta_delta', 'std_7th_delta_delta', 'std_8th_delta_delta', 'std_9th_delta_delta', 'std_10th_delta_delta', 'std_11th_delta_delta', 'std_12th_delta_delta', 'Ea', 'Ed_1_coef', 'Ed_2_coef', 'Ed_3_coef', 'Ed_4_coef', 'Ed_5_coef', 'Ed_6_coef', 'Ed_7_coef', 'Ed_8_coef', 'Ed_9_coef', 'Ed_10_coef', 'det_entropy_shannon_1_coef', 'det_entropy_shannon_2_coef', 'det_entropy_shannon_3_coef', 'det_entropy_shannon_4_coef', 'det_entropy_shannon_5_coef', 'det_entropy_shannon_6_coef', 'det_entropy_shannon_7_coef', 'det_entropy_shannon_8_coef', 'det_entropy_shannon_9_coef', 'det_entropy_shannon_10_coef', 'det_entropy_log_1_coef', 'det_entropy_log_2_coef', 'det_TKEO_mean_1_coef', 'det_TKEO_mean_2_coef', 'det_TKEO_mean_3_coef', 'det_TKEO_mean_4_coef', 'det_TKEO_mean_5_coef', 'det_TKEO_mean_6_coef', 'det_TKEO_mean_7_coef', 'det_TKEO_mean_8_coef', 'det_TKEO_mean_9_coef', 'det_TKEO_mean_10_coef', 'det_TKEO_std_1_coef', 'det_TKEO_std_2_coef', 'det_TKEO_std_3_coef', 'det_TKEO_std_4_coef', 'det_TKEO_std_5_coef', 'det_TKEO_std_6_coef', 'det_TKEO_std_7_coef', 'det_TKEO_std_8_coef', 'det_TKEO_std_9_coef', 'det_TKEO_std_10_coef', 'app_entropy_shannon_1_coef', 'app_entropy_shannon_2_coef', 'app_entropy_shannon_3_coef', 'app_entropy_shannon_4_coef', 'app_entropy_shannon_5_coef', 'app_entropy_shannon_6_coef', 'app_entropy_shannon_7_coef', 'app_entropy_shannon_8_coef', 'app_entropy_shannon_9_coef', 'app_entropy_shannon_10_coef', 'app_entropy_log_1_coef', 'app_entropy_log_2_coef', 'app_entropy_log_3_coef', 'app_entropy_log_4_coef', 'app_entropy_log_5_coef', 'app_entropy_log_6_coef', 'app_entropy_log_7_coef', 'app_entropy_log_8_coef', 'app_entropy_log_9_coef', 'app_entropy_log_10_coef', 'app_det_TKEO_mean_1_coef', 'app_det_TKEO_mean_2_coef', 'app_det_TKEO_mean_3_coef', 'app_det_TKEO_mean_4_coef', 'app_det_TKEO_mean_5_coef', 'app_det_TKEO_mean_6_coef', 'app_det_TKEO_mean_7_coef', 'app_det_TKEO_mean_8_coef', 'app_det_TKEO_mean_9_coef', 'app_det_TKEO_mean_10_coef', 'app_TKEO_std_1_coef', 'app_TKEO_std_2_coef', 'app_TKEO_std_3_coef', 'app_TKEO_std_4_coef', 'app_TKEO_std_5_coef', 'app_TKEO_std_6_coef', 'app_TKEO_std_7_coef', 'app_TKEO_std_8_coef', 'app_TKEO_std_9_coef', 'app_TKEO_std_10_coef', 'Ea2', 'Ed2_1_coef', 'Ed2_2_coef', 'Ed2_3_coef', 'Ed2_4_coef', 'Ed2_5_coef', 'Ed2_6_coef', 'Ed2_7_coef', 'Ed2_8_coef', 'Ed2_9_coef', 'Ed2_10_coef', 'det_LT_entropy_shannon_1_coef', 'det_LT_entropy_shannon_2_coef', 'det_LT_entropy_shannon_3_coef', 'det_LT_entropy_shannon_4_coef', 'det_LT_entropy_shannon_5_coef', 'det_LT_entropy_shannon_6_coef', 'det_LT_entropy_shannon_7_coef', 'det_LT_entropy_shannon_8_coef', 'det_LT_entropy_shannon_9_coef', 'det_LT_entropy_shannon_10_coef', 'det_LT_entropy_log_1_coef', 'det_LT_entropy_log_2_coef', 'det_LT_entropy_log_3_coef', 'det_LT_entropy_log_4_coef', 'det_LT_entropy_log_5_coef', 'det_LT_entropy_log_6_coef', 'det_LT_entropy_log_7_coef', 'det_LT_entropy_log_8_coef', 'det_LT_entropy_log_9_coef', 'det_LT_entropy_log_10_coef', 'det_LT_TKEO_mean_1_coef', 'det_LT_TKEO_mean_2_coef', 'det_LT_TKEO_mean_3_coef', 'det_LT_TKEO_mean_4_coef', 'det_LT_TKEO_mean_5_coef', 'det_LT_TKEO_mean_6_coef', 'det_LT_TKEO_mean_7_coef', 'det_LT_TKEO_mean_8_coef', 'det_LT_TKEO_mean_9_coef', 'det_LT_TKEO_mean_10_coef', 'det_LT_TKEO_std_1_coef', 'det_LT_TKEO_std_2_coef', 'det_LT_TKEO_std_3_coef', 'det_LT_TKEO_std_4_coef', 'det_LT_TKEO_std_5_coef', 'det_LT_TKEO_std_6_coef', 'det_LT_TKEO_std_7_coef', 'det_LT_TKEO_std_8_coef', 'det_LT_TKEO_std_9_coef', 'det_LT_TKEO_std_10_coef', 'app_LT_entropy_shannon_1_coef', 'app_LT_entropy_shannon_2_coef', 'app_LT_entropy_shannon_3_coef', 'app_LT_entropy_shannon_4_coef', 'app_LT_entropy_shannon_5_coef', 'app_LT_entropy_shannon_6_coef', 'app_LT_entropy_shannon_7_coef', 'app_LT_entropy_shannon_8_coef', 'app_LT_entropy_shannon_9_coef', 'app_LT_entropy_shannon_10_coef', 'app_LT_entropy_log_1_coef', 'app_LT_entropy_log_2_coef', 'app_LT_entropy_log_3_coef', 'app_LT_entropy_log_4_coef', 'app_LT_entropy_log_5_coef', 'app_LT_entropy_log_6_coef', 'app_LT_entropy_log_7_coef', 'app_LT_entropy_log_8_coef', 'app_LT_entropy_log_9_coef', 'app_LT_entropy_log_10_coef', 'app_LT_TKEO_mean_1_coef', 'app_LT_TKEO_mean_2_coef', 'app_LT_TKEO_mean_3_coef', 'app_LT_TKEO_mean_4_coef', 'app_LT_TKEO_mean_5_coef', 'app_LT_TKEO_mean_6_coef', 'app_LT_TKEO_mean_7_coef', 'app_LT_TKEO_mean_8_coef', 'app_LT_TKEO_mean_9_coef', 'app_LT_TKEO_mean_10_coef', 'app_LT_TKEO_std_1_coef', 'app_LT_TKEO_std_2_coef', 'app_LT_TKEO_std_3_coef', 'app_LT_TKEO_std_4_coef', 'app_LT_TKEO_std_5_coef', 'app_LT_TKEO_std_6_coef', 'app_LT_TKEO_std_7_coef', 'app_LT_TKEO_std_8_coef', 'app_LT_TKEO_std_9_coef', 'app_LT_TKEO_std_10_coef', 'tqwt_energy_dec_1', 'tqwt_energy_dec_2', 'tqwt_energy_dec_3', 'tqwt_energy_dec_4', 'tqwt_energy_dec_5', 'tqwt_energy_dec_6', 'tqwt_energy_dec_7', 'tqwt_energy_dec_8', 'tqwt_energy_dec_9', 'tqwt_energy_dec_10', 'tqwt_energy_dec_11', 'tqwt_energy_dec_12', 'tqwt_energy_dec_13', 'tqwt_energy_dec_14', 'tqwt_energy_dec_15', 'tqwt_energy_dec_16', 'tqwt_energy_dec_17', 'tqwt_energy_dec_18', 'tqwt_energy_dec_19', 'tqwt_energy_dec_20', 'tqwt_energy_dec_21', 'tqwt_energy_dec_22', 'tqwt_energy_dec_23', 'tqwt_energy_dec_24', 'tqwt_energy_dec_25', 'tqwt_energy_dec_26', 'tqwt_energy_dec_27', 'tqwt_energy_dec_28', 'tqwt_energy_dec_29', 'tqwt_energy_dec_30', 'tqwt_energy_dec_31', 'tqwt_energy_dec_32', 'tqwt_energy_dec_33', 'tqwt_energy_dec_34', 'tqwt_energy_dec_35', 'tqwt_energy_dec_36', 'tqwt_entropy_shannon_dec_1', 'tqwt_entropy_shannon_dec_2', 'tqwt_entropy_shannon_dec_3', 'tqwt_entropy_shannon_dec_4', 'tqwt_entropy_shannon_dec_5', 'tqwt_entropy_shannon_dec_6', 'tqwt_entropy_shannon_dec_7', 'tqwt_entropy_shannon_dec_8', 'tqwt_entropy_shannon_dec_9', 'tqwt_entropy_shannon_dec_10', 'tqwt_entropy_shannon_dec_11', 'tqwt_entropy_shannon_dec_12', 'tqwt_entropy_shannon_dec_13', 'tqwt_entropy_shannon_dec_14', 'tqwt_entropy_shannon_dec_15', 'tqwt_entropy_shannon_dec_16', 'tqwt_entropy_shannon_dec_17', 'tqwt_entropy_shannon_dec_22', 'tqwt_entropy_shannon_dec_28', 'tqwt_entropy_shannon_dec_29', 'tqwt_entropy_shannon_dec_30', 'tqwt_entropy_shannon_dec_31', 'tqwt_entropy_shannon_dec_32', 'tqwt_entropy_shannon_dec_33', 'tqwt_entropy_shannon_dec_34', 'tqwt_entropy_shannon_dec_35', 'tqwt_entropy_shannon_dec_36', 'tqwt_entropy_log_dec_1', 'tqwt_entropy_log_dec_2', 'tqwt_entropy_log_dec_3', 'tqwt_entropy_log_dec_4', 'tqwt_entropy_log_dec_5', 'tqwt_entropy_log_dec_6', 'tqwt_entropy_log_dec_7', 'tqwt_entropy_log_dec_8', 'tqwt_entropy_log_dec_9', 'tqwt_entropy_log_dec_10', 'tqwt_entropy_log_dec_11', 'tqwt_entropy_log_dec_12', 'tqwt_entropy_log_dec_13', 'tqwt_entropy_log_dec_14', 'tqwt_entropy_log_dec_15', 'tqwt_entropy_log_dec_16', 'tqwt_entropy_log_dec_17', 'tqwt_entropy_log_dec_18', 'tqwt_entropy_log_dec_19', 'tqwt_entropy_log_dec_20', 'tqwt_entropy_log_dec_21', 'tqwt_entropy_log_dec_22', 'tqwt_entropy_log_dec_23', 'tqwt_entropy_log_dec_24', 'tqwt_entropy_log_dec_25', 'tqwt_entropy_log_dec_26', 'tqwt_entropy_log_dec_27', 'tqwt_entropy_log_dec_28', 'tqwt_entropy_log_dec_29', 'tqwt_entropy_log_dec_30', 'tqwt_entropy_log_dec_31', 'tqwt_entropy_log_dec_32', 'tqwt_entropy_log_dec_33', 'tqwt_entropy_log_dec_34', 'tqwt_entropy_log_dec_35', 'tqwt_entropy_log_dec_36', 'tqwt_TKEO_mean_dec_1', 'tqwt_TKEO_mean_dec_2', 'tqwt_TKEO_mean_dec_3', 'tqwt_TKEO_mean_dec_4', 'tqwt_TKEO_mean_dec_5', 'tqwt_TKEO_mean_dec_6', 'tqwt_TKEO_mean_dec_7', 'tqwt_TKEO_mean_dec_8', 'tqwt_TKEO_mean_dec_9', 'tqwt_TKEO_mean_dec_10', 'tqwt_TKEO_mean_dec_11', 'tqwt_TKEO_mean_dec_12', 'tqwt_TKEO_mean_dec_13', 'tqwt_TKEO_mean_dec_14', 'tqwt_TKEO_mean_dec_15', 'tqwt_TKEO_mean_dec_16', 'tqwt_TKEO_mean_dec_17', 'tqwt_TKEO_mean_dec_18', 'tqwt_TKEO_mean_dec_19', 'tqwt_TKEO_mean_dec_20', 'tqwt_TKEO_mean_dec_21', 'tqwt_TKEO_mean_dec_22', 'tqwt_TKEO_mean_dec_23', 'tqwt_TKEO_mean_dec_24', 'tqwt_TKEO_mean_dec_25', 'tqwt_TKEO_mean_dec_26', 'tqwt_TKEO_mean_dec_27', 'tqwt_TKEO_mean_dec_28', 'tqwt_TKEO_mean_dec_29', 'tqwt_TKEO_mean_dec_30', 'tqwt_TKEO_mean_dec_31', 'tqwt_TKEO_mean_dec_32', 'tqwt_TKEO_mean_dec_33', 'tqwt_TKEO_mean_dec_34', 'tqwt_TKEO_mean_dec_35', 'tqwt_TKEO_mean_dec_36', 'tqwt_TKEO_std_dec_1', 'tqwt_TKEO_std_dec_2', 'tqwt_TKEO_std_dec_3', 'tqwt_TKEO_std_dec_4', 'tqwt_TKEO_std_dec_5', 'tqwt_TKEO_std_dec_6', 'tqwt_TKEO_std_dec_7', 'tqwt_TKEO_std_dec_8', 'tqwt_TKEO_std_dec_9', 'tqwt_TKEO_std_dec_10', 'tqwt_TKEO_std_dec_11', 'tqwt_TKEO_std_dec_12', 'tqwt_TKEO_std_dec_13', 'tqwt_TKEO_std_dec_14', 'tqwt_TKEO_std_dec_15', 'tqwt_TKEO_std_dec_16', 'tqwt_TKEO_std_dec_17', 'tqwt_TKEO_std_dec_18', 'tqwt_TKEO_std_dec_19', 'tqwt_TKEO_std_dec_20', 'tqwt_TKEO_std_dec_21', 'tqwt_TKEO_std_dec_22', 'tqwt_TKEO_std_dec_23', 'tqwt_TKEO_std_dec_24', 'tqwt_TKEO_std_dec_25', 'tqwt_TKEO_std_dec_26', 'tqwt_TKEO_std_dec_27', 'tqwt_TKEO_std_dec_28', 'tqwt_TKEO_std_dec_29', 'tqwt_TKEO_std_dec_30', 'tqwt_TKEO_std_dec_31', 'tqwt_TKEO_std_dec_32', 'tqwt_TKEO_std_dec_33', 'tqwt_TKEO_std_dec_34', 'tqwt_TKEO_std_dec_35', 'tqwt_TKEO_std_dec_36', 'tqwt_medianValue_dec_1', 'tqwt_medianValue_dec_2', 'tqwt_medianValue_dec_3', 'tqwt_medianValue_dec_4', 'tqwt_medianValue_dec_5', 'tqwt_medianValue_dec_6', 'tqwt_medianValue_dec_7', 'tqwt_medianValue_dec_8', 'tqwt_medianValue_dec_9', 'tqwt_medianValue_dec_10', 'tqwt_medianValue_dec_12', 'tqwt_medianValue_dec_13', 'tqwt_medianValue_dec_15', 'tqwt_medianValue_dec_16', 'tqwt_medianValue_dec_17', 'tqwt_medianValue_dec_18', 'tqwt_medianValue_dec_19', 'tqwt_medianValue_dec_20', 'tqwt_medianValue_dec_21', 'tqwt_medianValue_dec_23', 'tqwt_medianValue_dec_24', 'tqwt_medianValue_dec_25', 'tqwt_medianValue_dec_26', 'tqwt_medianValue_dec_27', 'tqwt_medianValue_dec_28', 'tqwt_medianValue_dec_29', 'tqwt_medianValue_dec_30', 'tqwt_medianValue_dec_31', 'tqwt_medianValue_dec_33', 'tqwt_medianValue_dec_34', 'tqwt_medianValue_dec_35', 'tqwt_medianValue_dec_36', 'tqwt_meanValue_dec_1', 'tqwt_meanValue_dec_2', 'tqwt_meanValue_dec_4', 'tqwt_meanValue_dec_5', 'tqwt_meanValue_dec_7', 'tqwt_meanValue_dec_8', 'tqwt_meanValue_dec_10', 'tqwt_meanValue_dec_11', 'tqwt_meanValue_dec_12', 'tqwt_meanValue_dec_13', 'tqwt_meanValue_dec_14', 'tqwt_meanValue_dec_15', 'tqwt_meanValue_dec_16', 'tqwt_meanValue_dec_18', 'tqwt_meanValue_dec_19', 'tqwt_meanValue_dec_21', 'tqwt_meanValue_dec_22', 'tqwt_meanValue_dec_24', 'tqwt_meanValue_dec_27', 'tqwt_meanValue_dec_28', 'tqwt_meanValue_dec_29', 'tqwt_meanValue_dec_30', 'tqwt_meanValue_dec_31', 'tqwt_meanValue_dec_32', 'tqwt_meanValue_dec_33', 'tqwt_meanValue_dec_34', 'tqwt_meanValue_dec_35', 'tqwt_meanValue_dec_36', 'tqwt_stdValue_dec_1', 'tqwt_stdValue_dec_2', 'tqwt_stdValue_dec_3', 'tqwt_stdValue_dec_4', 'tqwt_stdValue_dec_5', 'tqwt_stdValue_dec_6', 'tqwt_stdValue_dec_7', 'tqwt_stdValue_dec_8', 'tqwt_stdValue_dec_9', 'tqwt_stdValue_dec_10', 'tqwt_stdValue_dec_11', 'tqwt_stdValue_dec_12', 'tqwt_stdValue_dec_13', 'tqwt_stdValue_dec_14', 'tqwt_stdValue_dec_15', 'tqwt_stdValue_dec_16', 'tqwt_stdValue_dec_17', 'tqwt_stdValue_dec_18', 'tqwt_stdValue_dec_19', 'tqwt_stdValue_dec_20', 'tqwt_stdValue_dec_21', 'tqwt_stdValue_dec_22', 'tqwt_stdValue_dec_23', 'tqwt_stdValue_dec_24', 'tqwt_stdValue_dec_25', 'tqwt_stdValue_dec_26', 'tqwt_stdValue_dec_27', 'tqwt_stdValue_dec_28', 'tqwt_stdValue_dec_29', 'tqwt_stdValue_dec_30', 'tqwt_stdValue_dec_31', 'tqwt_stdValue_dec_32', 'tqwt_stdValue_dec_33', 'tqwt_stdValue_dec_34', 'tqwt_stdValue_dec_35', 'tqwt_stdValue_dec_36', 'tqwt_minValue_dec_1', 'tqwt_minValue_dec_2', 'tqwt_minValue_dec_3', 'tqwt_minValue_dec_4', 'tqwt_minValue_dec_5', 'tqwt_minValue_dec_6', 'tqwt_minValue_dec_7', 'tqwt_minValue_dec_8', 'tqwt_minValue_dec_9', 'tqwt_minValue_dec_10', 'tqwt_minValue_dec_11', 'tqwt_minValue_dec_12', 'tqwt_minValue_dec_13', 'tqwt_minValue_dec_14', 'tqwt_minValue_dec_15', 'tqwt_minValue_dec_16', 'tqwt_minValue_dec_17', 'tqwt_minValue_dec_18', 'tqwt_minValue_dec_19', 'tqwt_minValue_dec_20', 'tqwt_minValue_dec_21', 'tqwt_minValue_dec_22', 'tqwt_minValue_dec_23', 'tqwt_minValue_dec_24', 'tqwt_minValue_dec_25', 'tqwt_minValue_dec_26', 'tqwt_minValue_dec_27', 'tqwt_minValue_dec_28', 'tqwt_minValue_dec_29', 'tqwt_minValue_dec_30', 'tqwt_minValue_dec_31', 'tqwt_minValue_dec_32', 'tqwt_minValue_dec_33', 'tqwt_minValue_dec_34', 'tqwt_minValue_dec_35', 'tqwt_minValue_dec_36', 'tqwt_maxValue_dec_1', 'tqwt_maxValue_dec_2', 'tqwt_maxValue_dec_3', 'tqwt_maxValue_dec_4', 'tqwt_maxValue_dec_5', 'tqwt_maxValue_dec_6', 'tqwt_maxValue_dec_7', 'tqwt_maxValue_dec_8', 'tqwt_maxValue_dec_9', 'tqwt_maxValue_dec_10', 'tqwt_maxValue_dec_11', 'tqwt_maxValue_dec_12', 'tqwt_maxValue_dec_13', 'tqwt_maxValue_dec_14', 'tqwt_maxValue_dec_15', 'tqwt_maxValue_dec_16', 'tqwt_maxValue_dec_17', 'tqwt_maxValue_dec_18', 'tqwt_maxValue_dec_19', 'tqwt_maxValue_dec_20', 'tqwt_maxValue_dec_21', 'tqwt_maxValue_dec_22', 'tqwt_maxValue_dec_23', 'tqwt_maxValue_dec_24', 'tqwt_maxValue_dec_25', 'tqwt_maxValue_dec_26', 'tqwt_maxValue_dec_27', 'tqwt_maxValue_dec_28', 'tqwt_maxValue_dec_29', 'tqwt_maxValue_dec_30', 'tqwt_maxValue_dec_31', 'tqwt_maxValue_dec_32', 'tqwt_maxValue_dec_33', 'tqwt_maxValue_dec_34', 'tqwt_maxValue_dec_35', 'tqwt_maxValue_dec_36', 'tqwt_skewnessValue_dec_1', 'tqwt_skewnessValue_dec_2', 'tqwt_skewnessValue_dec_3', 'tqwt_skewnessValue_dec_4', 'tqwt_skewnessValue_dec_5', 'tqwt_skewnessValue_dec_6', 'tqwt_skewnessValue_dec_7', 'tqwt_skewnessValue_dec_8', 'tqwt_skewnessValue_dec_9', 'tqwt_skewnessValue_dec_10', 'tqwt_skewnessValue_dec_11', 'tqwt_skewnessValue_dec_12', 'tqwt_skewnessValue_dec_13', 'tqwt_skewnessValue_dec_14', 'tqwt_skewnessValue_dec_15', 'tqwt_skewnessValue_dec_16', 'tqwt_skewnessValue_dec_17', 'tqwt_skewnessValue_dec_18', 'tqwt_skewnessValue_dec_19', 'tqwt_skewnessValue_dec_20', 'tqwt_skewnessValue_dec_21', 'tqwt_skewnessValue_dec_22', 'tqwt_skewnessValue_dec_23', 'tqwt_skewnessValue_dec_24', 'tqwt_skewnessValue_dec_25', 'tqwt_skewnessValue_dec_26', 'tqwt_skewnessValue_dec_27', 'tqwt_skewnessValue_dec_28', 'tqwt_skewnessValue_dec_29', 'tqwt_skewnessValue_dec_30', 'tqwt_skewnessValue_dec_31', 'tqwt_skewnessValue_dec_32', 'tqwt_skewnessValue_dec_33', 'tqwt_skewnessValue_dec_34', 'tqwt_skewnessValue_dec_35', 'tqwt_skewnessValue_dec_36', 'tqwt_kurtosisValue_dec_1', 'tqwt_kurtosisValue_dec_2', 'tqwt_kurtosisValue_dec_3', 'tqwt_kurtosisValue_dec_4', 'tqwt_kurtosisValue_dec_5', 'tqwt_kurtosisValue_dec_6', 'tqwt_kurtosisValue_dec_7', 'tqwt_kurtosisValue_dec_8', 'tqwt_kurtosisValue_dec_9', 'tqwt_kurtosisValue_dec_10', 'tqwt_kurtosisValue_dec_11', 'tqwt_kurtosisValue_dec_12', 'tqwt_kurtosisValue_dec_13', 'tqwt_kurtosisValue_dec_14', 'tqwt_kurtosisValue_dec_15', 'tqwt_kurtosisValue_dec_16', 'tqwt_kurtosisValue_dec_17', 'tqwt_kurtosisValue_dec_18', 'tqwt_kurtosisValue_dec_19', 'tqwt_kurtosisValue_dec_20', 'tqwt_kurtosisValue_dec_21', 'tqwt_kurtosisValue_dec_22', 'tqwt_kurtosisValue_dec_23', 'tqwt_kurtosisValue_dec_24', 'tqwt_kurtosisValue_dec_25', 'tqwt_kurtosisValue_dec_26', 'tqwt_kurtosisValue_dec_27', 'tqwt_kurtosisValue_dec_28', 'tqwt_kurtosisValue_dec_29', 'tqwt_kurtosisValue_dec_30', 'tqwt_kurtosisValue_dec_31', 'tqwt_kurtosisValue_dec_32', 'tqwt_kurtosisValue_dec_33', 'tqwt_kurtosisValue_dec_34', 'tqwt_kurtosisValue_dec_35', 'tqwt_kurtosisValue_dec_36']\n"
     ]
    }
   ],
   "source": [
    "cats=['gender', 'PD']\n",
    "conts=[col for col in df.columns if col not in cats]\n",
    "cats=['gender']\n",
    "dep='PD'\n",
    "\n",
    "print(cats, dep, conts)"
   ]
  },
  {
   "cell_type": "markdown",
   "id": "41672065",
   "metadata": {
    "papermill": {
     "duration": 0.07507,
     "end_time": "2022-05-23T23:52:06.552765",
     "exception": false,
     "start_time": "2022-05-23T23:52:06.477695",
     "status": "completed"
    },
    "tags": []
   },
   "source": [
    "## Binary splits"
   ]
  },
  {
   "cell_type": "code",
   "execution_count": 220,
   "id": "55f4f7a9",
   "metadata": {
    "execution": {
     "iopub.execute_input": "2022-05-23T23:52:06.861689Z",
     "iopub.status.busy": "2022-05-23T23:52:06.861126Z",
     "iopub.status.idle": "2022-05-23T23:52:07.884110Z",
     "shell.execute_reply": "2022-05-23T23:52:07.883114Z"
    },
    "papermill": {
     "duration": 1.102355,
     "end_time": "2022-05-23T23:52:07.886349",
     "exception": false,
     "start_time": "2022-05-23T23:52:06.783994",
     "status": "completed"
    },
    "tags": []
   },
   "outputs": [
    {
     "data": {
      "image/png": "[encoded data removed]",
      "text/plain": [
       "<Figure size 1100x500 with 2 Axes>"
      ]
     },
     "metadata": {},
     "output_type": "display_data"
    }
   ],
   "source": [
    "import seaborn as sns\n",
    "\n",
    "df['gender'] = df['gender'].astype(int)\n",
    "fig,axs = plt.subplots(1,2, figsize=(11,5))\n",
    "sns.barplot(data=df, y=dep, x=\"gender\", ax=axs[0]).set(title=\"Survival rate\")\n",
    "sns.countplot(data=df, x=\"gender\", ax=axs[1]).set(title=\"Histogram\");"
   ]
  },
  {
   "cell_type": "code",
   "execution_count": 221,
   "id": "7b21423f",
   "metadata": {
    "execution": {
     "iopub.execute_input": "2022-05-23T23:52:08.197669Z",
     "iopub.status.busy": "2022-05-23T23:52:08.197358Z",
     "iopub.status.idle": "2022-05-23T23:52:08.381950Z",
     "shell.execute_reply": "2022-05-23T23:52:08.381258Z"
    },
    "papermill": {
     "duration": 0.266668,
     "end_time": "2022-05-23T23:52:08.384358",
     "exception": false,
     "start_time": "2022-05-23T23:52:08.117690",
     "status": "completed"
    },
    "tags": []
   },
   "outputs": [],
   "source": [
    "from numpy import random\n",
    "from sklearn.model_selection import train_test_split\n",
    "\n",
    "random.seed(42)\n",
    "df['gender'] = pd.Categorical(df.gender)\n",
    "trn_df,val_df = train_test_split(df, test_size=0.25)\n",
    "trn_df[cats] = trn_df[cats].apply(lambda x: x.cat.codes)\n",
    "val_df[cats] = val_df[cats].apply(lambda x: x.cat.codes)"
   ]
  },
  {
   "cell_type": "code",
   "execution_count": 222,
   "id": "a1bdbf46",
   "metadata": {
    "execution": {
     "iopub.execute_input": "2022-05-23T23:52:08.693767Z",
     "iopub.status.busy": "2022-05-23T23:52:08.692988Z",
     "iopub.status.idle": "2022-05-23T23:52:08.701823Z",
     "shell.execute_reply": "2022-05-23T23:52:08.700843Z"
    },
    "papermill": {
     "duration": 0.08891,
     "end_time": "2022-05-23T23:52:08.704290",
     "exception": false,
     "start_time": "2022-05-23T23:52:08.615380",
     "status": "completed"
    },
    "tags": []
   },
   "outputs": [],
   "source": [
    "def xs_y(df):\n",
    "    xs = df[cats+conts].copy()\n",
    "    return xs,df[dep] if dep in df else None\n",
    "\n",
    "trn_xs,trn_y = xs_y(trn_df)\n",
    "val_xs,val_y = xs_y(val_df)"
   ]
  },
  {
   "cell_type": "code",
   "execution_count": 223,
   "id": "4c717040",
   "metadata": {
    "execution": {
     "iopub.execute_input": "2022-05-23T23:52:09.014276Z",
     "iopub.status.busy": "2022-05-23T23:52:09.013681Z",
     "iopub.status.idle": "2022-05-23T23:52:09.018107Z",
     "shell.execute_reply": "2022-05-23T23:52:09.017344Z"
    },
    "papermill": {
     "duration": 0.085919,
     "end_time": "2022-05-23T23:52:09.020308",
     "exception": false,
     "start_time": "2022-05-23T23:52:08.934389",
     "status": "completed"
    },
    "tags": []
   },
   "outputs": [],
   "source": [
    "preds = val_xs.gender==0"
   ]
  },
  {
   "cell_type": "code",
   "execution_count": 224,
   "id": "0c0d9955",
   "metadata": {
    "execution": {
     "iopub.execute_input": "2022-05-23T23:52:09.331784Z",
     "iopub.status.busy": "2022-05-23T23:52:09.331490Z",
     "iopub.status.idle": "2022-05-23T23:52:09.338210Z",
     "shell.execute_reply": "2022-05-23T23:52:09.337243Z"
    },
    "papermill": {
     "duration": 0.087547,
     "end_time": "2022-05-23T23:52:09.340660",
     "exception": false,
     "start_time": "2022-05-23T23:52:09.253113",
     "status": "completed"
    },
    "tags": []
   },
   "outputs": [
    {
     "data": {
      "text/plain": [
       "0.5767195767195767"
      ]
     },
     "execution_count": 224,
     "metadata": {},
     "output_type": "execute_result"
    }
   ],
   "source": [
    "from sklearn.metrics import mean_absolute_error\n",
    "mean_absolute_error(val_y, preds)"
   ]
  },
  {
   "cell_type": "code",
   "execution_count": 225,
   "id": "acbdf71a",
   "metadata": {
    "execution": {
     "iopub.execute_input": "2022-05-23T23:52:09.650478Z",
     "iopub.status.busy": "2022-05-23T23:52:09.650134Z",
     "iopub.status.idle": "2022-05-23T23:52:09.932886Z",
     "shell.execute_reply": "2022-05-23T23:52:09.931944Z"
    },
    "papermill": {
     "duration": 0.363754,
     "end_time": "2022-05-23T23:52:09.935270",
     "exception": false,
     "start_time": "2022-05-23T23:52:09.571516",
     "status": "completed"
    },
    "tags": []
   },
   "outputs": [
    {
     "data": {
      "image/png": "[encoded data removed]",
      "text/plain": [
       "<Figure size 1100x500 with 2 Axes>"
      ]
     },
     "metadata": {},
     "output_type": "display_data"
    }
   ],
   "source": [
    "df_fare = trn_df[trn_df.tqwt_kurtosisValue_dec_36>-10000]\n",
    "fig,axs = plt.subplots(1,2, figsize=(11,5))\n",
    "sns.boxenplot(data=df_fare, x=dep, y=\"tqwt_kurtosisValue_dec_36\", ax=axs[0])\n",
    "sns.kdeplot(data=df_fare, x=\"tqwt_kurtosisValue_dec_36\", ax=axs[1]);"
   ]
  },
  {
   "cell_type": "code",
   "execution_count": 226,
   "id": "1ba429ff",
   "metadata": {
    "execution": {
     "iopub.execute_input": "2022-05-23T23:52:10.253568Z",
     "iopub.status.busy": "2022-05-23T23:52:10.253277Z",
     "iopub.status.idle": "2022-05-23T23:52:10.258015Z",
     "shell.execute_reply": "2022-05-23T23:52:10.257122Z"
    },
    "papermill": {
     "duration": 0.086971,
     "end_time": "2022-05-23T23:52:10.260566",
     "exception": false,
     "start_time": "2022-05-23T23:52:10.173595",
     "status": "completed"
    },
    "tags": []
   },
   "outputs": [],
   "source": [
    "preds = val_xs.tqwt_kurtosisValue_dec_36>1.8"
   ]
  },
  {
   "cell_type": "code",
   "execution_count": 227,
   "id": "faa47c50",
   "metadata": {
    "execution": {
     "iopub.execute_input": "2022-05-23T23:52:10.577363Z",
     "iopub.status.busy": "2022-05-23T23:52:10.576760Z",
     "iopub.status.idle": "2022-05-23T23:52:10.583341Z",
     "shell.execute_reply": "2022-05-23T23:52:10.582517Z"
    },
    "papermill": {
     "duration": 0.088187,
     "end_time": "2022-05-23T23:52:10.585326",
     "exception": false,
     "start_time": "2022-05-23T23:52:10.497139",
     "status": "completed"
    },
    "tags": []
   },
   "outputs": [
    {
     "data": {
      "text/plain": [
       "0.36507936507936506"
      ]
     },
     "execution_count": 227,
     "metadata": {},
     "output_type": "execute_result"
    }
   ],
   "source": [
    "mean_absolute_error(val_y, preds)"
   ]
  },
  {
   "cell_type": "code",
   "execution_count": 228,
   "id": "b651bfd0",
   "metadata": {
    "execution": {
     "iopub.execute_input": "2022-05-23T23:52:10.902098Z",
     "iopub.status.busy": "2022-05-23T23:52:10.901650Z",
     "iopub.status.idle": "2022-05-23T23:52:10.906471Z",
     "shell.execute_reply": "2022-05-23T23:52:10.905688Z"
    },
    "papermill": {
     "duration": 0.087027,
     "end_time": "2022-05-23T23:52:10.908542",
     "exception": false,
     "start_time": "2022-05-23T23:52:10.821515",
     "status": "completed"
    },
    "tags": []
   },
   "outputs": [],
   "source": [
    "def _side_score(side, y):\n",
    "    tot = side.sum()\n",
    "    if tot<=1: return 0\n",
    "    return y[side].std()*tot"
   ]
  },
  {
   "cell_type": "code",
   "execution_count": 229,
   "id": "516a5e14",
   "metadata": {
    "execution": {
     "iopub.execute_input": "2022-05-23T23:52:11.227933Z",
     "iopub.status.busy": "2022-05-23T23:52:11.227382Z",
     "iopub.status.idle": "2022-05-23T23:52:11.231832Z",
     "shell.execute_reply": "2022-05-23T23:52:11.231159Z"
    },
    "papermill": {
     "duration": 0.089432,
     "end_time": "2022-05-23T23:52:11.233859",
     "exception": false,
     "start_time": "2022-05-23T23:52:11.144427",
     "status": "completed"
    },
    "tags": []
   },
   "outputs": [],
   "source": [
    "    \n",
    "def score(col, y, split):\n",
    "    lhs = col<=split\n",
    "    return (_side_score(lhs,y) + _side_score(~lhs,y))/len(y)"
   ]
  },
  {
   "cell_type": "code",
   "execution_count": 230,
   "id": "8d890a5f",
   "metadata": {},
   "outputs": [
    {
     "data": {
      "text/plain": [
       "590    0\n",
       "362    1\n",
       "690    1\n",
       "292    1\n",
       "25     1\n",
       "      ..\n",
       "72     1\n",
       "107    1\n",
       "271    1\n",
       "436    1\n",
       "103    0\n",
       "Length: 567, dtype: int8"
      ]
     },
     "execution_count": 230,
     "metadata": {},
     "output_type": "execute_result"
    }
   ],
   "source": [
    "trn_y = trn_y.astype('category').cat.codes\n",
    "trn_y"
   ]
  },
  {
   "cell_type": "code",
   "execution_count": 231,
   "id": "e6549176",
   "metadata": {
    "execution": {
     "iopub.execute_input": "2022-05-23T23:52:11.885615Z",
     "iopub.status.busy": "2022-05-23T23:52:11.885055Z",
     "iopub.status.idle": "2022-05-23T23:52:11.892268Z",
     "shell.execute_reply": "2022-05-23T23:52:11.891417Z"
    },
    "papermill": {
     "duration": 0.09165,
     "end_time": "2022-05-23T23:52:11.894535",
     "exception": false,
     "start_time": "2022-05-23T23:52:11.802885",
     "status": "completed"
    },
    "tags": []
   },
   "outputs": [
    {
     "data": {
      "text/plain": [
       "0.4164788962051534"
      ]
     },
     "execution_count": 231,
     "metadata": {},
     "output_type": "execute_result"
    }
   ],
   "source": [
    "score(trn_xs[\"tqwt_kurtosisValue_dec_36\"], trn_y, 1.7)"
   ]
  },
  {
   "cell_type": "code",
   "execution_count": 232,
   "id": "8c928d3b",
   "metadata": {
    "execution": {
     "iopub.execute_input": "2022-05-23T23:52:12.216334Z",
     "iopub.status.busy": "2022-05-23T23:52:12.215970Z",
     "iopub.status.idle": "2022-05-23T23:52:12.265156Z",
     "shell.execute_reply": "2022-05-23T23:52:12.264332Z"
    },
    "papermill": {
     "duration": 0.132469,
     "end_time": "2022-05-23T23:52:12.267078",
     "exception": false,
     "start_time": "2022-05-23T23:52:12.134609",
     "status": "completed"
    },
    "scrolled": true,
    "tags": []
   },
   "outputs": [
    {
     "data": {
      "application/vnd.jupyter.widget-view+json": {
       "model_id": "f930793402904a42a492c64c2a30d5c7",
       "version_major": 2,
       "version_minor": 0
      },
      "text/plain": [
       "interactive(children=(Dropdown(description='nm', options=('PPE', 'DFA', 'RPDE', 'numPulses', 'numPeriodsPulses…"
      ]
     },
     "metadata": {},
     "output_type": "display_data"
    }
   ],
   "source": [
    "def iscore(nm, split):\n",
    "    col = trn_xs[nm]\n",
    "    return score(col, trn_y, split)\n",
    "\n",
    "from ipywidgets import interact\n",
    "interact(nm=conts, split=15.5)(iscore);"
   ]
  },
  {
   "cell_type": "code",
   "execution_count": 233,
   "id": "7a01bf2f",
   "metadata": {
    "execution": {
     "iopub.execute_input": "2022-05-23T23:52:12.590541Z",
     "iopub.status.busy": "2022-05-23T23:52:12.589936Z",
     "iopub.status.idle": "2022-05-23T23:52:12.629855Z",
     "shell.execute_reply": "2022-05-23T23:52:12.629042Z"
    },
    "papermill": {
     "duration": 0.12315,
     "end_time": "2022-05-23T23:52:12.632048",
     "exception": false,
     "start_time": "2022-05-23T23:52:12.508898",
     "status": "completed"
    },
    "scrolled": true,
    "tags": []
   },
   "outputs": [
    {
     "data": {
      "application/vnd.jupyter.widget-view+json": {
       "model_id": "ce40e8046a2640eaad67d62121eaeeec",
       "version_major": 2,
       "version_minor": 0
      },
      "text/plain": [
       "interactive(children=(Dropdown(description='nm', options=('gender',), value='gender'), IntSlider(value=2, desc…"
      ]
     },
     "metadata": {},
     "output_type": "display_data"
    }
   ],
   "source": [
    "interact(nm=cats, split=2)(iscore);"
   ]
  },
  {
   "cell_type": "code",
   "execution_count": 234,
   "id": "46695da8",
   "metadata": {
    "execution": {
     "iopub.execute_input": "2022-05-23T23:52:13.304274Z",
     "iopub.status.busy": "2022-05-23T23:52:13.303102Z",
     "iopub.status.idle": "2022-05-23T23:52:13.380984Z",
     "shell.execute_reply": "2022-05-23T23:52:13.380401Z"
    },
    "papermill": {
     "duration": 0.162462,
     "end_time": "2022-05-23T23:52:13.382996",
     "exception": false,
     "start_time": "2022-05-23T23:52:13.220534",
     "status": "completed"
    },
    "tags": []
   },
   "outputs": [
    {
     "data": {
      "text/plain": [
       "3.227562"
      ]
     },
     "execution_count": 234,
     "metadata": {},
     "output_type": "execute_result"
    }
   ],
   "source": [
    "scores = np.array([score(col, trn_y, o) for o in unq if not np.isnan(o)])\n",
    "unq[scores.argmin()]"
   ]
  },
  {
   "cell_type": "code",
   "execution_count": 235,
   "id": "dbfea30b",
   "metadata": {
    "execution": {
     "iopub.execute_input": "2022-05-23T23:52:13.713714Z",
     "iopub.status.busy": "2022-05-23T23:52:13.713139Z",
     "iopub.status.idle": "2022-05-23T23:52:13.796796Z",
     "shell.execute_reply": "2022-05-23T23:52:13.795637Z"
    },
    "papermill": {
     "duration": 0.169239,
     "end_time": "2022-05-23T23:52:13.799146",
     "exception": false,
     "start_time": "2022-05-23T23:52:13.629907",
     "status": "completed"
    },
    "tags": []
   },
   "outputs": [
    {
     "data": {
      "text/plain": [
       "(3.227562, 0.39533724633072664)"
      ]
     },
     "execution_count": 235,
     "metadata": {},
     "output_type": "execute_result"
    }
   ],
   "source": [
    "def min_col(df, nm):\n",
    "    col,y = df[nm],df[dep]\n",
    "    unq = col.dropna().unique()\n",
    "    scores = np.array([score(col, trn_y, o) for o in unq if not np.isnan(o)])\n",
    "    idx = scores.argmin()\n",
    "    return unq[idx],scores[idx]\n",
    "\n",
    "min_col(trn_df, \"tqwt_kurtosisValue_dec_36\")"
   ]
  },
  {
   "cell_type": "code",
   "execution_count": 236,
   "id": "ea0dd416",
   "metadata": {
    "execution": {
     "iopub.execute_input": "2022-05-23T23:52:14.132925Z",
     "iopub.status.busy": "2022-05-23T23:52:14.132393Z",
     "iopub.status.idle": "2022-05-23T23:52:14.415875Z",
     "shell.execute_reply": "2022-05-23T23:52:14.414970Z"
    },
    "papermill": {
     "duration": 0.368983,
     "end_time": "2022-05-23T23:52:14.418270",
     "exception": false,
     "start_time": "2022-05-23T23:52:14.049287",
     "status": "completed"
    },
    "tags": []
   },
   "outputs": [],
   "source": [
    "cols = cats+conts"
   ]
  },
  {
   "cell_type": "markdown",
   "id": "188dce42",
   "metadata": {
    "papermill": {
     "duration": 0.08557,
     "end_time": "2022-05-23T23:52:14.754376",
     "exception": false,
     "start_time": "2022-05-23T23:52:14.668806",
     "status": "completed"
    },
    "tags": []
   },
   "source": [
    "## Creating a decision tree"
   ]
  },
  {
   "cell_type": "code",
   "execution_count": 237,
   "id": "c763fa2d",
   "metadata": {
    "execution": {
     "iopub.execute_input": "2022-05-23T23:52:15.108874Z",
     "iopub.status.busy": "2022-05-23T23:52:15.107962Z",
     "iopub.status.idle": "2022-05-23T23:52:15.113883Z",
     "shell.execute_reply": "2022-05-23T23:52:15.113202Z"
    },
    "papermill": {
     "duration": 0.096166,
     "end_time": "2022-05-23T23:52:15.116020",
     "exception": false,
     "start_time": "2022-05-23T23:52:15.019854",
     "status": "completed"
    },
    "tags": []
   },
   "outputs": [],
   "source": [
    "cols.remove(\"gender\")\n",
    "ismale = trn_df.gender==1\n",
    "males,females = trn_df[ismale],trn_df[~ismale]"
   ]
  },
  {
   "cell_type": "code",
   "execution_count": 239,
   "id": "ec097da2",
   "metadata": {
    "execution": {
     "iopub.execute_input": "2022-05-23T23:52:16.529664Z",
     "iopub.status.busy": "2022-05-23T23:52:16.529398Z",
     "iopub.status.idle": "2022-05-23T23:52:16.695471Z",
     "shell.execute_reply": "2022-05-23T23:52:16.694497Z"
    },
    "papermill": {
     "duration": 0.252427,
     "end_time": "2022-05-23T23:52:16.697904",
     "exception": false,
     "start_time": "2022-05-23T23:52:16.445477",
     "status": "completed"
    },
    "scrolled": true,
    "tags": []
   },
   "outputs": [],
   "source": [
    "from sklearn.tree import DecisionTreeClassifier, export_graphviz\n",
    "m = DecisionTreeClassifier(max_leaf_nodes=4).fit(trn_xs, trn_y);"
   ]
  },
  {
   "cell_type": "code",
   "execution_count": 241,
   "id": "3ffe05fd",
   "metadata": {},
   "outputs": [
    {
     "data": {
      "text/plain": [
       "0\n",
       "gender                  0\n",
       "tqwt_TKEO_std_dec_29    0\n",
       "tqwt_TKEO_std_dec_31    0\n",
       "tqwt_TKEO_std_dec_32    0\n",
       "tqwt_TKEO_std_dec_33    0\n",
       "dtype: int64"
      ]
     },
     "execution_count": 241,
     "metadata": {},
     "output_type": "execute_result"
    }
   ],
   "source": [
    "trn_xs.isna().sum().sort_values(ascending=False).head()"
   ]
  },
  {
   "cell_type": "code",
   "execution_count": 242,
   "id": "aecbdf2c",
   "metadata": {
    "execution": {
     "iopub.execute_input": "2022-05-23T23:52:17.035987Z",
     "iopub.status.busy": "2022-05-23T23:52:17.035668Z",
     "iopub.status.idle": "2022-05-23T23:52:17.053247Z",
     "shell.execute_reply": "2022-05-23T23:52:17.052446Z"
    },
    "papermill": {
     "duration": 0.104803,
     "end_time": "2022-05-23T23:52:17.055420",
     "exception": false,
     "start_time": "2022-05-23T23:52:16.950617",
     "status": "completed"
    },
    "tags": []
   },
   "outputs": [],
   "source": [
    "import graphviz\n",
    "\n",
    "def draw_tree(t, df, size=10, ratio=0.6, precision=2, **kwargs):\n",
    "    s=export_graphviz(t, out_file=None, feature_names=df.columns, filled=True, rounded=True,\n",
    "                      special_characters=True, rotate=False, precision=precision, **kwargs)\n",
    "    return graphviz.Source(re.sub('Tree {', f'Tree {{ size={size}; ratio={ratio}', s))"
   ]
  },
  {
   "cell_type": "code",
   "execution_count": 244,
   "id": "b81bfa65",
   "metadata": {
    "execution": {
     "iopub.execute_input": "2022-05-23T23:52:19.807239Z",
     "iopub.status.busy": "2022-05-23T23:52:19.806662Z",
     "iopub.status.idle": "2022-05-23T23:52:19.855092Z",
     "shell.execute_reply": "2022-05-23T23:52:19.854063Z"
    },
    "papermill": {
     "duration": 0.136732,
     "end_time": "2022-05-23T23:52:19.857341",
     "exception": false,
     "start_time": "2022-05-23T23:52:19.720609",
     "status": "completed"
    },
    "tags": []
   },
   "outputs": [
    {
     "data": {
      "image/svg+xml": [
       "<?xml version=\"1.0\" encoding=\"UTF-8\" standalone=\"no\"?>\n",
       "<!DOCTYPE svg PUBLIC \"-//W3C//DTD SVG 1.1//EN\"\n",
       " \"http://www.w3.org/Graphics/SVG/1.1/DTD/svg11.dtd\">\n",
       "<!-- Generated by graphviz version 8.0.5 (20230430.1635)\n",
       " -->\n",
       "<!-- Title: Tree Pages: 1 -->\n",
       "<svg width=\"864pt\" height=\"521pt\"\n",
       " viewBox=\"0.00 0.00 864.00 520.98\" xmlns=\"http://www.w3.org/2000/svg\" xmlns:xlink=\"http://www.w3.org/1999/xlink\">\n",
       "<g id=\"graph0\" class=\"graph\" transform=\"scale(0.846441 0.846441) rotate(0) translate(4 611.5)\">\n",
       "<title>Tree</title>\n",
       "<polygon fill=\"white\" stroke=\"none\" points=\"-4,4 -4,-611.5 1016.74,-611.5 1016.74,4 -4,4\"/>\n",
       "<!-- 0 -->\n",
       "<g id=\"node1\" class=\"node\">\n",
       "<title>0</title>\n",
       "<path fill=\"#7bbdee\" stroke=\"black\" d=\"M499.27,-608C499.27,-608 286.77,-608 286.77,-608 280.77,-608 274.77,-602 274.77,-596 274.77,-596 274.77,-546 274.77,-546 274.77,-540 280.77,-534 286.77,-534 286.77,-534 499.27,-534 499.27,-534 505.27,-534 511.27,-540 511.27,-546 511.27,-546 511.27,-596 511.27,-596 511.27,-602 505.27,-608 499.27,-608\"/>\n",
       "<text text-anchor=\"start\" x=\"282.77\" y=\"-590.7\" font-family=\"Helvetica,sans-Serif\" font-size=\"14.00\">std_delta_delta_log_energy ≤ 0.01</text>\n",
       "<text text-anchor=\"start\" x=\"360.02\" y=\"-574.2\" font-family=\"Helvetica,sans-Serif\" font-size=\"14.00\">gini = 0.37</text>\n",
       "<text text-anchor=\"start\" x=\"345.77\" y=\"-557.7\" font-family=\"Helvetica,sans-Serif\" font-size=\"14.00\">samples = 567</text>\n",
       "<text text-anchor=\"start\" x=\"336.39\" y=\"-541.2\" font-family=\"Helvetica,sans-Serif\" font-size=\"14.00\">value = [141, 426]</text>\n",
       "</g>\n",
       "<!-- 1 -->\n",
       "<g id=\"node2\" class=\"node\">\n",
       "<title>1</title>\n",
       "<path fill=\"#fceee5\" stroke=\"black\" d=\"M331.77,-498C331.77,-498 146.27,-498 146.27,-498 140.27,-498 134.27,-492 134.27,-486 134.27,-486 134.27,-436 134.27,-436 134.27,-430 140.27,-424 146.27,-424 146.27,-424 331.77,-424 331.77,-424 337.77,-424 343.77,-430 343.77,-436 343.77,-436 343.77,-486 343.77,-486 343.77,-492 337.77,-498 331.77,-498\"/>\n",
       "<text text-anchor=\"start\" x=\"142.27\" y=\"-480.7\" font-family=\"Helvetica,sans-Serif\" font-size=\"14.00\">tqwt_TKEO_std_dec_13 ≤ 0.0</text>\n",
       "<text text-anchor=\"start\" x=\"210.14\" y=\"-464.2\" font-family=\"Helvetica,sans-Serif\" font-size=\"14.00\">gini = 0.5</text>\n",
       "<text text-anchor=\"start\" x=\"191.77\" y=\"-447.7\" font-family=\"Helvetica,sans-Serif\" font-size=\"14.00\">samples = 170</text>\n",
       "<text text-anchor=\"start\" x=\"190.64\" y=\"-431.2\" font-family=\"Helvetica,sans-Serif\" font-size=\"14.00\">value = [91, 79]</text>\n",
       "</g>\n",
       "<!-- 0&#45;&gt;1 -->\n",
       "<g id=\"edge1\" class=\"edge\">\n",
       "<title>0&#45;&gt;1</title>\n",
       "<path fill=\"none\" stroke=\"black\" d=\"M341.31,-533.74C327.98,-524.39 313.5,-514.24 299.76,-504.6\"/>\n",
       "<polygon fill=\"black\" stroke=\"black\" points=\"302.05,-501.23 291.85,-498.35 298.03,-506.96 302.05,-501.23\"/>\n",
       "<text text-anchor=\"middle\" x=\"295.17\" y=\"-517.92\" font-family=\"Helvetica,sans-Serif\" font-size=\"14.00\">True</text>\n",
       "</g>\n",
       "<!-- 4 -->\n",
       "<g id=\"node5\" class=\"node\">\n",
       "<title>4</title>\n",
       "<path fill=\"#56abe9\" stroke=\"black\" d=\"M628.39,-498C628.39,-498 467.64,-498 467.64,-498 461.64,-498 455.64,-492 455.64,-486 455.64,-486 455.64,-436 455.64,-436 455.64,-430 461.64,-424 467.64,-424 467.64,-424 628.39,-424 628.39,-424 634.39,-424 640.39,-430 640.39,-436 640.39,-436 640.39,-486 640.39,-486 640.39,-492 634.39,-498 628.39,-498\"/>\n",
       "<text text-anchor=\"start\" x=\"463.64\" y=\"-480.7\" font-family=\"Helvetica,sans-Serif\" font-size=\"14.00\">std_7th_delta_delta ≤ 0.02</text>\n",
       "<text text-anchor=\"start\" x=\"515.02\" y=\"-464.2\" font-family=\"Helvetica,sans-Serif\" font-size=\"14.00\">gini = 0.22</text>\n",
       "<text text-anchor=\"start\" x=\"500.77\" y=\"-447.7\" font-family=\"Helvetica,sans-Serif\" font-size=\"14.00\">samples = 397</text>\n",
       "<text text-anchor=\"start\" x=\"495.52\" y=\"-431.2\" font-family=\"Helvetica,sans-Serif\" font-size=\"14.00\">value = [50, 347]</text>\n",
       "</g>\n",
       "<!-- 0&#45;&gt;4 -->\n",
       "<g id=\"edge4\" class=\"edge\">\n",
       "<title>0&#45;&gt;4</title>\n",
       "<path fill=\"none\" stroke=\"black\" d=\"M445.06,-533.74C458.48,-524.39 473.04,-514.24 486.88,-504.6\"/>\n",
       "<polygon fill=\"black\" stroke=\"black\" points=\"488.64,-506.94 494.85,-498.35 484.64,-501.2 488.64,-506.94\"/>\n",
       "<text text-anchor=\"middle\" x=\"491.45\" y=\"-517.91\" font-family=\"Helvetica,sans-Serif\" font-size=\"14.00\">False</text>\n",
       "</g>\n",
       "<!-- 2 -->\n",
       "<g id=\"node3\" class=\"node\">\n",
       "<title>2</title>\n",
       "<path fill=\"#7ebfee\" stroke=\"black\" d=\"M125.39,-379.75C125.39,-379.75 36.64,-379.75 36.64,-379.75 30.64,-379.75 24.64,-373.75 24.64,-367.75 24.64,-367.75 24.64,-334.25 24.64,-334.25 24.64,-328.25 30.64,-322.25 36.64,-322.25 36.64,-322.25 125.39,-322.25 125.39,-322.25 131.39,-322.25 137.39,-328.25 137.39,-334.25 137.39,-334.25 137.39,-367.75 137.39,-367.75 137.39,-373.75 131.39,-379.75 125.39,-379.75\"/>\n",
       "<text text-anchor=\"start\" x=\"48.02\" y=\"-362.45\" font-family=\"Helvetica,sans-Serif\" font-size=\"14.00\">gini = 0.38</text>\n",
       "<text text-anchor=\"start\" x=\"37.89\" y=\"-345.95\" font-family=\"Helvetica,sans-Serif\" font-size=\"14.00\">samples = 77</text>\n",
       "<text text-anchor=\"start\" x=\"32.64\" y=\"-329.45\" font-family=\"Helvetica,sans-Serif\" font-size=\"14.00\">value = [20, 57]</text>\n",
       "</g>\n",
       "<!-- 1&#45;&gt;2 -->\n",
       "<g id=\"edge2\" class=\"edge\">\n",
       "<title>1&#45;&gt;2</title>\n",
       "<path fill=\"none\" stroke=\"black\" d=\"M185.96,-423.74C168.25,-411.63 148.58,-398.19 131.11,-386.24\"/>\n",
       "<polygon fill=\"black\" stroke=\"black\" points=\"133.42,-382.9 123.19,-380.14 129.47,-388.67 133.42,-382.9\"/>\n",
       "</g>\n",
       "<!-- 3 -->\n",
       "<g id=\"node4\" class=\"node\">\n",
       "<title>3</title>\n",
       "<path fill=\"#eda876\" stroke=\"black\" d=\"M313.39,-379.75C313.39,-379.75 224.64,-379.75 224.64,-379.75 218.64,-379.75 212.64,-373.75 212.64,-367.75 212.64,-367.75 212.64,-334.25 212.64,-334.25 212.64,-328.25 218.64,-322.25 224.64,-322.25 224.64,-322.25 313.39,-322.25 313.39,-322.25 319.39,-322.25 325.39,-328.25 325.39,-334.25 325.39,-334.25 325.39,-367.75 325.39,-367.75 325.39,-373.75 319.39,-379.75 313.39,-379.75\"/>\n",
       "<text text-anchor=\"start\" x=\"236.02\" y=\"-362.45\" font-family=\"Helvetica,sans-Serif\" font-size=\"14.00\">gini = 0.36</text>\n",
       "<text text-anchor=\"start\" x=\"225.89\" y=\"-345.95\" font-family=\"Helvetica,sans-Serif\" font-size=\"14.00\">samples = 93</text>\n",
       "<text text-anchor=\"start\" x=\"220.64\" y=\"-329.45\" font-family=\"Helvetica,sans-Serif\" font-size=\"14.00\">value = [71, 22]</text>\n",
       "</g>\n",
       "<!-- 1&#45;&gt;3 -->\n",
       "<g id=\"edge3\" class=\"edge\">\n",
       "<title>1&#45;&gt;3</title>\n",
       "<path fill=\"none\" stroke=\"black\" d=\"M249.09,-423.74C252.05,-413.07 255.3,-401.37 258.3,-390.57\"/>\n",
       "<polygon fill=\"black\" stroke=\"black\" points=\"261.89,-391.71 261.2,-381.14 255.15,-389.84 261.89,-391.71\"/>\n",
       "</g>\n",
       "<!-- 5 -->\n",
       "<g id=\"node6\" class=\"node\">\n",
       "<title>5</title>\n",
       "<path fill=\"#acd6f4\" stroke=\"black\" d=\"M562.39,-379.75C562.39,-379.75 473.64,-379.75 473.64,-379.75 467.64,-379.75 461.64,-373.75 461.64,-367.75 461.64,-367.75 461.64,-334.25 461.64,-334.25 461.64,-328.25 467.64,-322.25 473.64,-322.25 473.64,-322.25 562.39,-322.25 562.39,-322.25 568.39,-322.25 574.39,-328.25 574.39,-334.25 574.39,-334.25 574.39,-367.75 574.39,-367.75 574.39,-373.75 568.39,-379.75 562.39,-379.75\"/>\n",
       "<text text-anchor=\"start\" x=\"485.02\" y=\"-362.45\" font-family=\"Helvetica,sans-Serif\" font-size=\"14.00\">gini = 0.47</text>\n",
       "<text text-anchor=\"start\" x=\"474.89\" y=\"-345.95\" font-family=\"Helvetica,sans-Serif\" font-size=\"14.00\">samples = 76</text>\n",
       "<text text-anchor=\"start\" x=\"469.64\" y=\"-329.45\" font-family=\"Helvetica,sans-Serif\" font-size=\"14.00\">value = [28, 48]</text>\n",
       "</g>\n",
       "<!-- 4&#45;&gt;5 -->\n",
       "<g id=\"edge5\" class=\"edge\">\n",
       "<title>4&#45;&gt;5</title>\n",
       "<path fill=\"none\" stroke=\"black\" d=\"M537.94,-423.74C534.98,-413.07 531.73,-401.37 528.73,-390.57\"/>\n",
       "<polygon fill=\"black\" stroke=\"black\" points=\"531.88,-389.84 525.83,-381.14 525.14,-391.71 531.88,-389.84\"/>\n",
       "</g>\n",
       "<!-- 6 -->\n",
       "<g id=\"node7\" class=\"node\">\n",
       "<title>6</title>\n",
       "<path fill=\"#48a4e7\" stroke=\"black\" d=\"M928.52,-388C928.52,-388 693.52,-388 693.52,-388 687.52,-388 681.52,-382 681.52,-376 681.52,-376 681.52,-326 681.52,-326 681.52,-320 687.52,-314 693.52,-314 693.52,-314 928.52,-314 928.52,-314 934.52,-314 940.52,-320 940.52,-326 940.52,-326 940.52,-376 940.52,-376 940.52,-382 934.52,-388 928.52,-388\"/>\n",
       "<text text-anchor=\"start\" x=\"689.52\" y=\"-370.7\" font-family=\"Helvetica,sans-Serif\" font-size=\"14.00\">tqwt_entropy_shannon_dec_11 ≤ 3.53</text>\n",
       "<text text-anchor=\"start\" x=\"778.02\" y=\"-354.2\" font-family=\"Helvetica,sans-Serif\" font-size=\"14.00\">gini = 0.13</text>\n",
       "<text text-anchor=\"start\" x=\"763.77\" y=\"-337.7\" font-family=\"Helvetica,sans-Serif\" font-size=\"14.00\">samples = 321</text>\n",
       "<text text-anchor=\"start\" x=\"758.52\" y=\"-321.2\" font-family=\"Helvetica,sans-Serif\" font-size=\"14.00\">value = [22, 299]</text>\n",
       "</g>\n",
       "<!-- 4&#45;&gt;6 -->\n",
       "<g id=\"edge6\" class=\"edge\">\n",
       "<title>4&#45;&gt;6</title>\n",
       "<path fill=\"none\" stroke=\"black\" d=\"M636.69,-423.59C660.94,-413.63 687.36,-402.78 712.14,-392.6\"/>\n",
       "<polygon fill=\"black\" stroke=\"black\" points=\"713.36,-395.48 721.28,-388.44 710.7,-389 713.36,-395.48\"/>\n",
       "</g>\n",
       "<!-- 7 -->\n",
       "<g id=\"node8\" class=\"node\">\n",
       "<title>7</title>\n",
       "<path fill=\"#41a1e6\" stroke=\"black\" d=\"M772.39,-278C772.39,-278 611.64,-278 611.64,-278 605.64,-278 599.64,-272 599.64,-266 599.64,-266 599.64,-216 599.64,-216 599.64,-210 605.64,-204 611.64,-204 611.64,-204 772.39,-204 772.39,-204 778.39,-204 784.39,-210 784.39,-216 784.39,-216 784.39,-266 784.39,-266 784.39,-272 778.39,-278 772.39,-278\"/>\n",
       "<text text-anchor=\"start\" x=\"607.64\" y=\"-260.7\" font-family=\"Helvetica,sans-Serif\" font-size=\"14.00\">std_7th_delta_delta ≤ 0.02</text>\n",
       "<text text-anchor=\"start\" x=\"659.02\" y=\"-244.2\" font-family=\"Helvetica,sans-Serif\" font-size=\"14.00\">gini = 0.07</text>\n",
       "<text text-anchor=\"start\" x=\"644.77\" y=\"-227.7\" font-family=\"Helvetica,sans-Serif\" font-size=\"14.00\">samples = 260</text>\n",
       "<text text-anchor=\"start\" x=\"639.52\" y=\"-211.2\" font-family=\"Helvetica,sans-Serif\" font-size=\"14.00\">value = [10, 250]</text>\n",
       "</g>\n",
       "<!-- 6&#45;&gt;7 -->\n",
       "<g id=\"edge7\" class=\"edge\">\n",
       "<title>6&#45;&gt;7</title>\n",
       "<path fill=\"none\" stroke=\"black\" d=\"M771.06,-313.74C761.15,-304.74 750.43,-295.01 740.17,-285.7\"/>\n",
       "<polygon fill=\"black\" stroke=\"black\" points=\"742.83,-283.48 733.07,-279.35 738.12,-288.66 742.83,-283.48\"/>\n",
       "</g>\n",
       "<!-- 12 -->\n",
       "<g id=\"node13\" class=\"node\">\n",
       "<title>12</title>\n",
       "<path fill=\"#69b5eb\" stroke=\"black\" d=\"M976.39,-269.75C976.39,-269.75 887.64,-269.75 887.64,-269.75 881.64,-269.75 875.64,-263.75 875.64,-257.75 875.64,-257.75 875.64,-224.25 875.64,-224.25 875.64,-218.25 881.64,-212.25 887.64,-212.25 887.64,-212.25 976.39,-212.25 976.39,-212.25 982.39,-212.25 988.39,-218.25 988.39,-224.25 988.39,-224.25 988.39,-257.75 988.39,-257.75 988.39,-263.75 982.39,-269.75 976.39,-269.75\"/>\n",
       "<text text-anchor=\"start\" x=\"899.02\" y=\"-252.45\" font-family=\"Helvetica,sans-Serif\" font-size=\"14.00\">gini = 0.32</text>\n",
       "<text text-anchor=\"start\" x=\"888.89\" y=\"-235.95\" font-family=\"Helvetica,sans-Serif\" font-size=\"14.00\">samples = 61</text>\n",
       "<text text-anchor=\"start\" x=\"883.64\" y=\"-219.45\" font-family=\"Helvetica,sans-Serif\" font-size=\"14.00\">value = [12, 49]</text>\n",
       "</g>\n",
       "<!-- 6&#45;&gt;12 -->\n",
       "<g id=\"edge12\" class=\"edge\">\n",
       "<title>6&#45;&gt;12</title>\n",
       "<path fill=\"none\" stroke=\"black\" d=\"M851.64,-313.74C864.83,-301.96 879.44,-288.93 892.55,-277.23\"/>\n",
       "<polygon fill=\"black\" stroke=\"black\" points=\"894.36,-280.41 899.49,-271.14 889.69,-275.19 894.36,-280.41\"/>\n",
       "</g>\n",
       "<!-- 8 -->\n",
       "<g id=\"node9\" class=\"node\">\n",
       "<title>8</title>\n",
       "<path fill=\"#56ace9\" stroke=\"black\" d=\"M601.27,-159.75C601.27,-159.75 520.77,-159.75 520.77,-159.75 514.77,-159.75 508.77,-153.75 508.77,-147.75 508.77,-147.75 508.77,-114.25 508.77,-114.25 508.77,-108.25 514.77,-102.25 520.77,-102.25 520.77,-102.25 601.27,-102.25 601.27,-102.25 607.27,-102.25 613.27,-108.25 613.27,-114.25 613.27,-114.25 613.27,-147.75 613.27,-147.75 613.27,-153.75 607.27,-159.75 601.27,-159.75\"/>\n",
       "<text text-anchor=\"start\" x=\"528.02\" y=\"-142.45\" font-family=\"Helvetica,sans-Serif\" font-size=\"14.00\">gini = 0.22</text>\n",
       "<text text-anchor=\"start\" x=\"517.89\" y=\"-125.95\" font-family=\"Helvetica,sans-Serif\" font-size=\"14.00\">samples = 62</text>\n",
       "<text text-anchor=\"start\" x=\"516.77\" y=\"-109.45\" font-family=\"Helvetica,sans-Serif\" font-size=\"14.00\">value = [8, 54]</text>\n",
       "</g>\n",
       "<!-- 7&#45;&gt;8 -->\n",
       "<g id=\"edge8\" class=\"edge\">\n",
       "<title>7&#45;&gt;8</title>\n",
       "<path fill=\"none\" stroke=\"black\" d=\"M648.03,-203.74C633.61,-191.85 617.64,-178.68 603.35,-166.9\"/>\n",
       "<polygon fill=\"black\" stroke=\"black\" points=\"606.09,-163.8 596.15,-160.14 601.64,-169.2 606.09,-163.8\"/>\n",
       "</g>\n",
       "<!-- 9 -->\n",
       "<g id=\"node10\" class=\"node\">\n",
       "<title>9</title>\n",
       "<path fill=\"#3b9ee5\" stroke=\"black\" d=\"M924.64,-168C924.64,-168 723.39,-168 723.39,-168 717.39,-168 711.39,-162 711.39,-156 711.39,-156 711.39,-106 711.39,-106 711.39,-100 717.39,-94 723.39,-94 723.39,-94 924.64,-94 924.64,-94 930.64,-94 936.64,-100 936.64,-106 936.64,-106 936.64,-156 936.64,-156 936.64,-162 930.64,-168 924.64,-168\"/>\n",
       "<text text-anchor=\"start\" x=\"719.39\" y=\"-150.7\" font-family=\"Helvetica,sans-Serif\" font-size=\"14.00\">tqwt_TKEO_mean_dec_26 ≤ 0.0</text>\n",
       "<text text-anchor=\"start\" x=\"791.02\" y=\"-134.2\" font-family=\"Helvetica,sans-Serif\" font-size=\"14.00\">gini = 0.02</text>\n",
       "<text text-anchor=\"start\" x=\"776.77\" y=\"-117.7\" font-family=\"Helvetica,sans-Serif\" font-size=\"14.00\">samples = 198</text>\n",
       "<text text-anchor=\"start\" x=\"775.64\" y=\"-101.2\" font-family=\"Helvetica,sans-Serif\" font-size=\"14.00\">value = [2, 196]</text>\n",
       "</g>\n",
       "<!-- 7&#45;&gt;9 -->\n",
       "<g id=\"edge9\" class=\"edge\">\n",
       "<title>7&#45;&gt;9</title>\n",
       "<path fill=\"none\" stroke=\"black\" d=\"M736.34,-203.74C747.55,-194.57 759.7,-184.63 771.28,-175.15\"/>\n",
       "<polygon fill=\"black\" stroke=\"black\" points=\"773.06,-177.39 778.59,-168.35 768.63,-171.97 773.06,-177.39\"/>\n",
       "</g>\n",
       "<!-- 10 -->\n",
       "<g id=\"node11\" class=\"node\">\n",
       "<title>10</title>\n",
       "<path fill=\"#41a1e6\" stroke=\"black\" d=\"M772.27,-57.75C772.27,-57.75 691.77,-57.75 691.77,-57.75 685.77,-57.75 679.77,-51.75 679.77,-45.75 679.77,-45.75 679.77,-12.25 679.77,-12.25 679.77,-6.25 685.77,-0.25 691.77,-0.25 691.77,-0.25 772.27,-0.25 772.27,-0.25 778.27,-0.25 784.27,-6.25 784.27,-12.25 784.27,-12.25 784.27,-45.75 784.27,-45.75 784.27,-51.75 778.27,-57.75 772.27,-57.75\"/>\n",
       "<text text-anchor=\"start\" x=\"699.02\" y=\"-40.45\" font-family=\"Helvetica,sans-Serif\" font-size=\"14.00\">gini = 0.08</text>\n",
       "<text text-anchor=\"start\" x=\"688.89\" y=\"-23.95\" font-family=\"Helvetica,sans-Serif\" font-size=\"14.00\">samples = 50</text>\n",
       "<text text-anchor=\"start\" x=\"687.77\" y=\"-7.45\" font-family=\"Helvetica,sans-Serif\" font-size=\"14.00\">value = [2, 48]</text>\n",
       "</g>\n",
       "<!-- 9&#45;&gt;10 -->\n",
       "<g id=\"edge10\" class=\"edge\">\n",
       "<title>9&#45;&gt;10</title>\n",
       "<path fill=\"none\" stroke=\"black\" d=\"M790.54,-93.61C782.28,-84.64 773.44,-75.02 765.19,-66.06\"/>\n",
       "<polygon fill=\"black\" stroke=\"black\" points=\"768.17,-64.04 758.82,-59.05 763.01,-68.78 768.17,-64.04\"/>\n",
       "</g>\n",
       "<!-- 11 -->\n",
       "<g id=\"node12\" class=\"node\">\n",
       "<title>11</title>\n",
       "<path fill=\"#399de5\" stroke=\"black\" d=\"M958.39,-57.75C958.39,-57.75 869.64,-57.75 869.64,-57.75 863.64,-57.75 857.64,-51.75 857.64,-45.75 857.64,-45.75 857.64,-12.25 857.64,-12.25 857.64,-6.25 863.64,-0.25 869.64,-0.25 869.64,-0.25 958.39,-0.25 958.39,-0.25 964.39,-0.25 970.39,-6.25 970.39,-12.25 970.39,-12.25 970.39,-45.75 970.39,-45.75 970.39,-51.75 964.39,-57.75 958.39,-57.75\"/>\n",
       "<text text-anchor=\"start\" x=\"885.14\" y=\"-40.45\" font-family=\"Helvetica,sans-Serif\" font-size=\"14.00\">gini = 0.0</text>\n",
       "<text text-anchor=\"start\" x=\"866.77\" y=\"-23.95\" font-family=\"Helvetica,sans-Serif\" font-size=\"14.00\">samples = 148</text>\n",
       "<text text-anchor=\"start\" x=\"865.64\" y=\"-7.45\" font-family=\"Helvetica,sans-Serif\" font-size=\"14.00\">value = [0, 148]</text>\n",
       "</g>\n",
       "<!-- 9&#45;&gt;11 -->\n",
       "<g id=\"edge11\" class=\"edge\">\n",
       "<title>9&#45;&gt;11</title>\n",
       "<path fill=\"none\" stroke=\"black\" d=\"M856.76,-93.61C864.84,-84.64 873.49,-75.02 881.56,-66.06\"/>\n",
       "<polygon fill=\"black\" stroke=\"black\" points=\"883.68,-68.82 887.77,-59.05 878.48,-64.14 883.68,-68.82\"/>\n",
       "</g>\n",
       "</g>\n",
       "</svg>\n"
      ],
      "text/plain": [
       "<graphviz.sources.Source at 0x2b09a1fb610>"
      ]
     },
     "execution_count": 244,
     "metadata": {},
     "output_type": "execute_result"
    }
   ],
   "source": [
    "m = DecisionTreeClassifier(min_samples_leaf=50)\n",
    "m.fit(trn_xs, trn_y)\n",
    "draw_tree(m, trn_xs, size=12)"
   ]
  },
  {
   "cell_type": "code",
   "execution_count": 245,
   "id": "5d82961e",
   "metadata": {
    "execution": {
     "iopub.execute_input": "2022-05-23T23:52:20.034875Z",
     "iopub.status.busy": "2022-05-23T23:52:20.034551Z",
     "iopub.status.idle": "2022-05-23T23:52:20.044976Z",
     "shell.execute_reply": "2022-05-23T23:52:20.044315Z"
    },
    "papermill": {
     "duration": 0.10291,
     "end_time": "2022-05-23T23:52:20.046905",
     "exception": false,
     "start_time": "2022-05-23T23:52:19.943995",
     "status": "completed"
    },
    "scrolled": true,
    "tags": []
   },
   "outputs": [
    {
     "data": {
      "text/plain": [
       "0.20634920634920634"
      ]
     },
     "execution_count": 245,
     "metadata": {},
     "output_type": "execute_result"
    }
   ],
   "source": [
    "mean_absolute_error(val_y, m.predict(val_xs))"
   ]
  },
  {
   "cell_type": "markdown",
   "id": "2b45887e",
   "metadata": {
    "papermill": {
     "duration": 0.086779,
     "end_time": "2022-05-23T23:52:21.494320",
     "exception": false,
     "start_time": "2022-05-23T23:52:21.407541",
     "status": "completed"
    },
    "tags": []
   },
   "source": [
    "## The random forest"
   ]
  },
  {
   "cell_type": "markdown",
   "id": "2ab6c8b4",
   "metadata": {
    "papermill": {
     "duration": 0.086497,
     "end_time": "2022-05-23T23:52:23.151915",
     "exception": false,
     "start_time": "2022-05-23T23:52:23.065418",
     "status": "completed"
    },
    "tags": []
   },
   "source": [
    "This is nearly identical to what `sklearn`'s `RandomForestClassifier` does. The main extra piece in a \"real\" random forest is that as well as choosing a random sample of data for each tree, it also picks a random subset of columns for each split. Here's how we repeat the above process with a random forest:"
   ]
  },
  {
   "cell_type": "code",
   "execution_count": 249,
   "id": "3ec0ada5",
   "metadata": {
    "execution": {
     "iopub.execute_input": "2022-05-23T23:52:23.328862Z",
     "iopub.status.busy": "2022-05-23T23:52:23.328403Z",
     "iopub.status.idle": "2022-05-23T23:52:23.622038Z",
     "shell.execute_reply": "2022-05-23T23:52:23.620968Z"
    },
    "papermill": {
     "duration": 0.385511,
     "end_time": "2022-05-23T23:52:23.624308",
     "exception": false,
     "start_time": "2022-05-23T23:52:23.238797",
     "status": "completed"
    },
    "tags": []
   },
   "outputs": [
    {
     "data": {
      "text/plain": [
       "0.1693121693121693"
      ]
     },
     "execution_count": 249,
     "metadata": {},
     "output_type": "execute_result"
    }
   ],
   "source": [
    "from sklearn.ensemble import RandomForestClassifier\n",
    "\n",
    "rf = RandomForestClassifier(100, min_samples_leaf=5)\n",
    "rf.fit(trn_xs, trn_y);\n",
    "mean_absolute_error(val_y, rf.predict(val_xs))"
   ]
  },
  {
   "cell_type": "code",
   "execution_count": 253,
   "id": "4fecbc09",
   "metadata": {
    "papermill": {
     "duration": 0.088049,
     "end_time": "2022-05-23T23:52:25.659455",
     "exception": false,
     "start_time": "2022-05-23T23:52:25.571406",
     "status": "completed"
    },
    "tags": []
   },
   "outputs": [
    {
     "data": {
      "image/png": "[encoded data removed]",
      "text/plain": [
       "<Figure size 640x480 with 1 Axes>"
      ]
     },
     "metadata": {},
     "output_type": "display_data"
    }
   ],
   "source": [
    "import matplotlib.pyplot as plt\n",
    "\n",
    "datax = {'cols': trn_xs.columns, 'imp': m.feature_importances_}\n",
    "dfx = pd.DataFrame(datax)\n",
    "\n",
    "df_sorted = dfx.sort_values(by='imp', ascending=False)\n",
    "df_top_n = df_sorted.head(8)\n",
    "\n",
    "df_top_n.plot(x='cols', y='imp', kind='barh')\n",
    "\n",
    "plt.show()\n"
   ]
  },
  {
   "cell_type": "code",
   "execution_count": null,
   "id": "b2bfb08e",
   "metadata": {},
   "outputs": [],
   "source": []
  }
 ],
 "metadata": {
  "kernelspec": {
   "display_name": "Python 3 (ipykernel)",
   "language": "python",
   "name": "python3"
  },
  "language_info": {
   "codemirror_mode": {
    "name": "ipython",
    "version": 3
   },
   "file_extension": ".py",
   "mimetype": "text/x-python",
   "name": "python",
   "nbconvert_exporter": "python",
   "pygments_lexer": "ipython3",
   "version": "3.9.13"
  },
  "papermill": {
   "default_parameters": {},
   "duration": 33.243357,
   "end_time": "2022-05-23T23:52:26.679734",
   "environment_variables": {},
   "exception": null,
   "input_path": "__notebook__.ipynb",
   "output_path": "__notebook__.ipynb",
   "parameters": {},
   "start_time": "2022-05-23T23:51:53.436377",
   "version": "2.3.4"
  },
  "widgets": {
   "application/vnd.jupyter.widget-state+json": {
    "state": {
     "0b8cc982889f45fdb1033ccafe122f0a": {
      "model_module": "@jupyter-widgets/controls",
      "model_module_version": "1.5.0",
      "model_name": "FloatSliderModel",
      "state": {
       "_dom_classes": [],
       "_model_module": "@jupyter-widgets/controls",
       "_model_module_version": "1.5.0",
       "_model_name": "FloatSliderModel",
       "_view_count": null,
       "_view_module": "@jupyter-widgets/controls",
       "_view_module_version": "1.5.0",
       "_view_name": "FloatSliderView",
       "continuous_update": true,
       "description": "split",
       "description_tooltip": null,
       "disabled": false,
       "layout": "IPY_MODEL_65f92e60825b419290deba2c44139999",
       "max": 46.5,
       "min": -15.5,
       "orientation": "horizontal",
       "readout": true,
       "readout_format": ".2f",
       "step": 0.1,
       "style": "IPY_MODEL_b13d39f611c4484abb5554ef7c63eb2b",
       "value": 15.5
      }
     },
     "23b034cbd54b44e79b3a6145ba2958bd": {
      "model_module": "@jupyter-widgets/base",
      "model_module_version": "1.2.0",
      "model_name": "LayoutModel",
      "state": {
       "_model_module": "@jupyter-widgets/base",
       "_model_module_version": "1.2.0",
       "_model_name": "LayoutModel",
       "_view_count": null,
       "_view_module": "@jupyter-widgets/base",
       "_view_module_version": "1.2.0",
       "_view_name": "LayoutView",
       "align_content": null,
       "align_items": null,
       "align_self": null,
       "border": null,
       "bottom": null,
       "display": null,
       "flex": null,
       "flex_flow": null,
       "grid_area": null,
       "grid_auto_columns": null,
       "grid_auto_flow": null,
       "grid_auto_rows": null,
       "grid_column": null,
       "grid_gap": null,
       "grid_row": null,
       "grid_template_areas": null,
       "grid_template_columns": null,
       "grid_template_rows": null,
       "height": null,
       "justify_content": null,
       "justify_items": null,
       "left": null,
       "margin": null,
       "max_height": null,
       "max_width": null,
       "min_height": null,
       "min_width": null,
       "object_fit": null,
       "object_position": null,
       "order": null,
       "overflow": null,
       "overflow_x": null,
       "overflow_y": null,
       "padding": null,
       "right": null,
       "top": null,
       "visibility": null,
       "width": null
      }
     },
     "31db31dc75ee4255bc151e13488a9742": {
      "model_module": "@jupyter-widgets/base",
      "model_module_version": "1.2.0",
      "model_name": "LayoutModel",
      "state": {
       "_model_module": "@jupyter-widgets/base",
       "_model_module_version": "1.2.0",
       "_model_name": "LayoutModel",
       "_view_count": null,
       "_view_module": "@jupyter-widgets/base",
       "_view_module_version": "1.2.0",
       "_view_name": "LayoutView",
       "align_content": null,
       "align_items": null,
       "align_self": null,
       "border": null,
       "bottom": null,
       "display": null,
       "flex": null,
       "flex_flow": null,
       "grid_area": null,
       "grid_auto_columns": null,
       "grid_auto_flow": null,
       "grid_auto_rows": null,
       "grid_column": null,
       "grid_gap": null,
       "grid_row": null,
       "grid_template_areas": null,
       "grid_template_columns": null,
       "grid_template_rows": null,
       "height": null,
       "justify_content": null,
       "justify_items": null,
       "left": null,
       "margin": null,
       "max_height": null,
       "max_width": null,
       "min_height": null,
       "min_width": null,
       "object_fit": null,
       "object_position": null,
       "order": null,
       "overflow": null,
       "overflow_x": null,
       "overflow_y": null,
       "padding": null,
       "right": null,
       "top": null,
       "visibility": null,
       "width": null
      }
     },
     "3531f9ef201a4046ad01de663d88b766": {
      "model_module": "@jupyter-widgets/controls",
      "model_module_version": "1.5.0",
      "model_name": "IntSliderModel",
      "state": {
       "_dom_classes": [],
       "_model_module": "@jupyter-widgets/controls",
       "_model_module_version": "1.5.0",
       "_model_name": "IntSliderModel",
       "_view_count": null,
       "_view_module": "@jupyter-widgets/controls",
       "_view_module_version": "1.5.0",
       "_view_name": "IntSliderView",
       "continuous_update": true,
       "description": "split",
       "description_tooltip": null,
       "disabled": false,
       "layout": "IPY_MODEL_31db31dc75ee4255bc151e13488a9742",
       "max": 6,
       "min": -2,
       "orientation": "horizontal",
       "readout": true,
       "readout_format": "d",
       "step": 1,
       "style": "IPY_MODEL_ef14a963d4464fcca9bd5f220e3cc6e8",
       "value": 2
      }
     },
     "3a8c1e7fe19b4897afbf7a8afdc727e7": {
      "model_module": "@jupyter-widgets/controls",
      "model_module_version": "1.5.0",
      "model_name": "VBoxModel",
      "state": {
       "_dom_classes": [
        "widget-interact"
       ],
       "_model_module": "@jupyter-widgets/controls",
       "_model_module_version": "1.5.0",
       "_model_name": "VBoxModel",
       "_view_count": null,
       "_view_module": "@jupyter-widgets/controls",
       "_view_module_version": "1.5.0",
       "_view_name": "VBoxView",
       "box_style": "",
       "children": [
        "IPY_MODEL_ae6af183567d4b24b08275d9c029a4b4",
        "IPY_MODEL_3531f9ef201a4046ad01de663d88b766",
        "IPY_MODEL_400c599e06fb4b56b19bf0feb4b6fd9a"
       ],
       "layout": "IPY_MODEL_d59abcbb498440be9a46da1e06af0cad"
      }
     },
     "3c94e92aa5a1464b97e34c6a67ff58e0": {
      "model_module": "@jupyter-widgets/controls",
      "model_module_version": "1.5.0",
      "model_name": "DescriptionStyleModel",
      "state": {
       "_model_module": "@jupyter-widgets/controls",
       "_model_module_version": "1.5.0",
       "_model_name": "DescriptionStyleModel",
       "_view_count": null,
       "_view_module": "@jupyter-widgets/base",
       "_view_module_version": "1.2.0",
       "_view_name": "StyleView",
       "description_width": ""
      }
     },
     "400c599e06fb4b56b19bf0feb4b6fd9a": {
      "model_module": "@jupyter-widgets/output",
      "model_module_version": "1.0.0",
      "model_name": "OutputModel",
      "state": {
       "_dom_classes": [],
       "_model_module": "@jupyter-widgets/output",
       "_model_module_version": "1.0.0",
       "_model_name": "OutputModel",
       "_view_count": null,
       "_view_module": "@jupyter-widgets/output",
       "_view_module_version": "1.0.0",
       "_view_name": "OutputView",
       "layout": "IPY_MODEL_5becffbcacf0414d916acfd1cb12dbfe",
       "msg_id": "",
       "outputs": [
        {
         "data": {
          "text/plain": "0.4854373192013831"
         },
         "metadata": {},
         "output_type": "display_data"
        }
       ]
      }
     },
     "5becffbcacf0414d916acfd1cb12dbfe": {
      "model_module": "@jupyter-widgets/base",
      "model_module_version": "1.2.0",
      "model_name": "LayoutModel",
      "state": {
       "_model_module": "@jupyter-widgets/base",
       "_model_module_version": "1.2.0",
       "_model_name": "LayoutModel",
       "_view_count": null,
       "_view_module": "@jupyter-widgets/base",
       "_view_module_version": "1.2.0",
       "_view_name": "LayoutView",
       "align_content": null,
       "align_items": null,
       "align_self": null,
       "border": null,
       "bottom": null,
       "display": null,
       "flex": null,
       "flex_flow": null,
       "grid_area": null,
       "grid_auto_columns": null,
       "grid_auto_flow": null,
       "grid_auto_rows": null,
       "grid_column": null,
       "grid_gap": null,
       "grid_row": null,
       "grid_template_areas": null,
       "grid_template_columns": null,
       "grid_template_rows": null,
       "height": null,
       "justify_content": null,
       "justify_items": null,
       "left": null,
       "margin": null,
       "max_height": null,
       "max_width": null,
       "min_height": null,
       "min_width": null,
       "object_fit": null,
       "object_position": null,
       "order": null,
       "overflow": null,
       "overflow_x": null,
       "overflow_y": null,
       "padding": null,
       "right": null,
       "top": null,
       "visibility": null,
       "width": null
      }
     },
     "65f92e60825b419290deba2c44139999": {
      "model_module": "@jupyter-widgets/base",
      "model_module_version": "1.2.0",
      "model_name": "LayoutModel",
      "state": {
       "_model_module": "@jupyter-widgets/base",
       "_model_module_version": "1.2.0",
       "_model_name": "LayoutModel",
       "_view_count": null,
       "_view_module": "@jupyter-widgets/base",
       "_view_module_version": "1.2.0",
       "_view_name": "LayoutView",
       "align_content": null,
       "align_items": null,
       "align_self": null,
       "border": null,
       "bottom": null,
       "display": null,
       "flex": null,
       "flex_flow": null,
       "grid_area": null,
       "grid_auto_columns": null,
       "grid_auto_flow": null,
       "grid_auto_rows": null,
       "grid_column": null,
       "grid_gap": null,
       "grid_row": null,
       "grid_template_areas": null,
       "grid_template_columns": null,
       "grid_template_rows": null,
       "height": null,
       "justify_content": null,
       "justify_items": null,
       "left": null,
       "margin": null,
       "max_height": null,
       "max_width": null,
       "min_height": null,
       "min_width": null,
       "object_fit": null,
       "object_position": null,
       "order": null,
       "overflow": null,
       "overflow_x": null,
       "overflow_y": null,
       "padding": null,
       "right": null,
       "top": null,
       "visibility": null,
       "width": null
      }
     },
     "8774162a3a05417793bd6858db7a9cf0": {
      "model_module": "@jupyter-widgets/base",
      "model_module_version": "1.2.0",
      "model_name": "LayoutModel",
      "state": {
       "_model_module": "@jupyter-widgets/base",
       "_model_module_version": "1.2.0",
       "_model_name": "LayoutModel",
       "_view_count": null,
       "_view_module": "@jupyter-widgets/base",
       "_view_module_version": "1.2.0",
       "_view_name": "LayoutView",
       "align_content": null,
       "align_items": null,
       "align_self": null,
       "border": null,
       "bottom": null,
       "display": null,
       "flex": null,
       "flex_flow": null,
       "grid_area": null,
       "grid_auto_columns": null,
       "grid_auto_flow": null,
       "grid_auto_rows": null,
       "grid_column": null,
       "grid_gap": null,
       "grid_row": null,
       "grid_template_areas": null,
       "grid_template_columns": null,
       "grid_template_rows": null,
       "height": null,
       "justify_content": null,
       "justify_items": null,
       "left": null,
       "margin": null,
       "max_height": null,
       "max_width": null,
       "min_height": null,
       "min_width": null,
       "object_fit": null,
       "object_position": null,
       "order": null,
       "overflow": null,
       "overflow_x": null,
       "overflow_y": null,
       "padding": null,
       "right": null,
       "top": null,
       "visibility": null,
       "width": null
      }
     },
     "a9b3e19b0bb44c8aa1ae814e10407426": {
      "model_module": "@jupyter-widgets/controls",
      "model_module_version": "1.5.0",
      "model_name": "VBoxModel",
      "state": {
       "_dom_classes": [
        "widget-interact"
       ],
       "_model_module": "@jupyter-widgets/controls",
       "_model_module_version": "1.5.0",
       "_model_name": "VBoxModel",
       "_view_count": null,
       "_view_module": "@jupyter-widgets/controls",
       "_view_module_version": "1.5.0",
       "_view_name": "VBoxView",
       "box_style": "",
       "children": [
        "IPY_MODEL_b8a234465ac142698f56edd47c27194a",
        "IPY_MODEL_0b8cc982889f45fdb1033ccafe122f0a",
        "IPY_MODEL_d0a0589701364ab99133b75660ecac38"
       ],
       "layout": "IPY_MODEL_8774162a3a05417793bd6858db7a9cf0"
      }
     },
     "ae6af183567d4b24b08275d9c029a4b4": {
      "model_module": "@jupyter-widgets/controls",
      "model_module_version": "1.5.0",
      "model_name": "DropdownModel",
      "state": {
       "_dom_classes": [],
       "_model_module": "@jupyter-widgets/controls",
       "_model_module_version": "1.5.0",
       "_model_name": "DropdownModel",
       "_options_labels": [
        "Sex",
        "Embarked"
       ],
       "_view_count": null,
       "_view_module": "@jupyter-widgets/controls",
       "_view_module_version": "1.5.0",
       "_view_name": "DropdownView",
       "description": "nm",
       "description_tooltip": null,
       "disabled": false,
       "index": 0,
       "layout": "IPY_MODEL_f344a411d06b4828b293d8d1b95b5d2d",
       "style": "IPY_MODEL_3c94e92aa5a1464b97e34c6a67ff58e0"
      }
     },
     "b13d39f611c4484abb5554ef7c63eb2b": {
      "model_module": "@jupyter-widgets/controls",
      "model_module_version": "1.5.0",
      "model_name": "SliderStyleModel",
      "state": {
       "_model_module": "@jupyter-widgets/controls",
       "_model_module_version": "1.5.0",
       "_model_name": "SliderStyleModel",
       "_view_count": null,
       "_view_module": "@jupyter-widgets/base",
       "_view_module_version": "1.2.0",
       "_view_name": "StyleView",
       "description_width": "",
       "handle_color": null
      }
     },
     "b8a234465ac142698f56edd47c27194a": {
      "model_module": "@jupyter-widgets/controls",
      "model_module_version": "1.5.0",
      "model_name": "DropdownModel",
      "state": {
       "_dom_classes": [],
       "_model_module": "@jupyter-widgets/controls",
       "_model_module_version": "1.5.0",
       "_model_name": "DropdownModel",
       "_options_labels": [
        "Age",
        "SibSp",
        "Parch",
        "LogFare",
        "Pclass"
       ],
       "_view_count": null,
       "_view_module": "@jupyter-widgets/controls",
       "_view_module_version": "1.5.0",
       "_view_name": "DropdownView",
       "description": "nm",
       "description_tooltip": null,
       "disabled": false,
       "index": 0,
       "layout": "IPY_MODEL_f5726258f2ff4c3c977973151f1bc424",
       "style": "IPY_MODEL_ce52044b466649ba9ef4d45558063b6e"
      }
     },
     "ce52044b466649ba9ef4d45558063b6e": {
      "model_module": "@jupyter-widgets/controls",
      "model_module_version": "1.5.0",
      "model_name": "DescriptionStyleModel",
      "state": {
       "_model_module": "@jupyter-widgets/controls",
       "_model_module_version": "1.5.0",
       "_model_name": "DescriptionStyleModel",
       "_view_count": null,
       "_view_module": "@jupyter-widgets/base",
       "_view_module_version": "1.2.0",
       "_view_name": "StyleView",
       "description_width": ""
      }
     },
     "d0a0589701364ab99133b75660ecac38": {
      "model_module": "@jupyter-widgets/output",
      "model_module_version": "1.0.0",
      "model_name": "OutputModel",
      "state": {
       "_dom_classes": [],
       "_model_module": "@jupyter-widgets/output",
       "_model_module_version": "1.0.0",
       "_model_name": "OutputModel",
       "_view_count": null,
       "_view_module": "@jupyter-widgets/output",
       "_view_module_version": "1.0.0",
       "_view_name": "OutputView",
       "layout": "IPY_MODEL_23b034cbd54b44e79b3a6145ba2958bd",
       "msg_id": "",
       "outputs": [
        {
         "data": {
          "text/plain": "0.48105614369455413"
         },
         "metadata": {},
         "output_type": "display_data"
        }
       ]
      }
     },
     "d59abcbb498440be9a46da1e06af0cad": {
      "model_module": "@jupyter-widgets/base",
      "model_module_version": "1.2.0",
      "model_name": "LayoutModel",
      "state": {
       "_model_module": "@jupyter-widgets/base",
       "_model_module_version": "1.2.0",
       "_model_name": "LayoutModel",
       "_view_count": null,
       "_view_module": "@jupyter-widgets/base",
       "_view_module_version": "1.2.0",
       "_view_name": "LayoutView",
       "align_content": null,
       "align_items": null,
       "align_self": null,
       "border": null,
       "bottom": null,
       "display": null,
       "flex": null,
       "flex_flow": null,
       "grid_area": null,
       "grid_auto_columns": null,
       "grid_auto_flow": null,
       "grid_auto_rows": null,
       "grid_column": null,
       "grid_gap": null,
       "grid_row": null,
       "grid_template_areas": null,
       "grid_template_columns": null,
       "grid_template_rows": null,
       "height": null,
       "justify_content": null,
       "justify_items": null,
       "left": null,
       "margin": null,
       "max_height": null,
       "max_width": null,
       "min_height": null,
       "min_width": null,
       "object_fit": null,
       "object_position": null,
       "order": null,
       "overflow": null,
       "overflow_x": null,
       "overflow_y": null,
       "padding": null,
       "right": null,
       "top": null,
       "visibility": null,
       "width": null
      }
     },
     "ef14a963d4464fcca9bd5f220e3cc6e8": {
      "model_module": "@jupyter-widgets/controls",
      "model_module_version": "1.5.0",
      "model_name": "SliderStyleModel",
      "state": {
       "_model_module": "@jupyter-widgets/controls",
       "_model_module_version": "1.5.0",
       "_model_name": "SliderStyleModel",
       "_view_count": null,
       "_view_module": "@jupyter-widgets/base",
       "_view_module_version": "1.2.0",
       "_view_name": "StyleView",
       "description_width": "",
       "handle_color": null
      }
     },
     "f344a411d06b4828b293d8d1b95b5d2d": {
      "model_module": "@jupyter-widgets/base",
      "model_module_version": "1.2.0",
      "model_name": "LayoutModel",
      "state": {
       "_model_module": "@jupyter-widgets/base",
       "_model_module_version": "1.2.0",
       "_model_name": "LayoutModel",
       "_view_count": null,
       "_view_module": "@jupyter-widgets/base",
       "_view_module_version": "1.2.0",
       "_view_name": "LayoutView",
       "align_content": null,
       "align_items": null,
       "align_self": null,
       "border": null,
       "bottom": null,
       "display": null,
       "flex": null,
       "flex_flow": null,
       "grid_area": null,
       "grid_auto_columns": null,
       "grid_auto_flow": null,
       "grid_auto_rows": null,
       "grid_column": null,
       "grid_gap": null,
       "grid_row": null,
       "grid_template_areas": null,
       "grid_template_columns": null,
       "grid_template_rows": null,
       "height": null,
       "justify_content": null,
       "justify_items": null,
       "left": null,
       "margin": null,
       "max_height": null,
       "max_width": null,
       "min_height": null,
       "min_width": null,
       "object_fit": null,
       "object_position": null,
       "order": null,
       "overflow": null,
       "overflow_x": null,
       "overflow_y": null,
       "padding": null,
       "right": null,
       "top": null,
       "visibility": null,
       "width": null
      }
     },
     "f5726258f2ff4c3c977973151f1bc424": {
      "model_module": "@jupyter-widgets/base",
      "model_module_version": "1.2.0",
      "model_name": "LayoutModel",
      "state": {
       "_model_module": "@jupyter-widgets/base",
       "_model_module_version": "1.2.0",
       "_model_name": "LayoutModel",
       "_view_count": null,
       "_view_module": "@jupyter-widgets/base",
       "_view_module_version": "1.2.0",
       "_view_name": "LayoutView",
       "align_content": null,
       "align_items": null,
       "align_self": null,
       "border": null,
       "bottom": null,
       "display": null,
       "flex": null,
       "flex_flow": null,
       "grid_area": null,
       "grid_auto_columns": null,
       "grid_auto_flow": null,
       "grid_auto_rows": null,
       "grid_column": null,
       "grid_gap": null,
       "grid_row": null,
       "grid_template_areas": null,
       "grid_template_columns": null,
       "grid_template_rows": null,
       "height": null,
       "justify_content": null,
       "justify_items": null,
       "left": null,
       "margin": null,
       "max_height": null,
       "max_width": null,
       "min_height": null,
       "min_width": null,
       "object_fit": null,
       "object_position": null,
       "order": null,
       "overflow": null,
       "overflow_x": null,
       "overflow_y": null,
       "padding": null,
       "right": null,
       "top": null,
       "visibility": null,
       "width": null
      }
     }
    },
    "version_major": 2,
    "version_minor": 0
   }
  }
 },
 "nbformat": 4,
 "nbformat_minor": 5
}
