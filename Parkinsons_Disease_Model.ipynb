{
  "nbformat": 4,
  "nbformat_minor": 0,
  "metadata": {
    "colab": {
      "provenance": [],
      "gpuType": "T4"
    },
    "kernelspec": {
      "name": "python3",
      "display_name": "Python 3"
    },
    "language_info": {
      "name": "python"
    },
    "accelerator": "GPU"
  },
  "cells": [
    {
      "cell_type": "code",
      "execution_count": null,
      "metadata": {
        "id": "HDHc7dfUaCOk"
      },
      "outputs": [],
      "source": [
        "#Load libraries\n",
        "import os\n",
        "import numpy as np\n",
        "import torch\n",
        "import glob\n",
        "import torch.nn as nn\n",
        "from torchvision.transforms import transforms\n",
        "from torch.utils.data import DataLoader\n",
        "from torch.optim import Adam\n",
        "from torch.autograd import Variable\n",
        "import torchvision\n",
        "import pathlib"
      ]
    },
    {
      "cell_type": "code",
      "source": [
        "device=torch.device('cuda' if torch.cuda.is_available() else 'cpu')\n",
        "print(device)"
      ],
      "metadata": {
        "colab": {
          "base_uri": "https://localhost:8080/"
        },
        "id": "2IQEuYGeaPxx",
        "outputId": "bf42979b-b356-495c-e084-6ce10c320912"
      },
      "execution_count": null,
      "outputs": [
        {
          "output_type": "stream",
          "name": "stdout",
          "text": [
            "cuda\n"
          ]
        }
      ]
    },
    {
      "cell_type": "code",
      "source": [
        "from google.colab import drive\n",
        "drive.mount('/content/drive')"
      ],
      "metadata": {
        "id": "mTqD3Y7rSokd"
      },
      "execution_count": null,
      "outputs": []
    },
    {
      "cell_type": "code",
      "source": [
        "transformer=transforms.Compose([\n",
        "    transforms.Resize((150,150)),\n",
        "    transforms.ToTensor(),\n",
        "    transforms.Normalize([0.5,0.5,0.5],[0.5,0.5,0.5])\n",
        "])"
      ],
      "metadata": {
        "id": "ETZzsz931OMi"
      },
      "execution_count": null,
      "outputs": []
    },
    {
      "cell_type": "code",
      "source": [
        "class ConvNet(nn.Module):\n",
        "    def __init__(self,num_classes=2):\n",
        "        super(ConvNet,self).__init__()\n",
        "\n",
        "        #Input shape= (256,3,150,150)\n",
        "\n",
        "        self.conv1=nn.Conv2d(in_channels=3,out_channels=12,kernel_size=3,stride=1,padding=1)\n",
        "        self.bn1=nn.BatchNorm2d(num_features=12)\n",
        "        self.relu1=nn.ReLU()\n",
        "        #Shape= (256,12,150,150)\n",
        "\n",
        "        self.pool=nn.MaxPool2d(kernel_size=2)\n",
        "        #Reduce the image size by factor 2\n",
        "        #Shape= (256,12,75,75)\n",
        "\n",
        "\n",
        "        self.conv2=nn.Conv2d(in_channels=12,out_channels=20,kernel_size=3,stride=1,padding=1)\n",
        "        self.relu2=nn.ReLU()\n",
        "        #Shape= (256,20,75,75)\n",
        "\n",
        "        self.conv3=nn.Conv2d(in_channels=20,out_channels=32,kernel_size=3,stride=1,padding=1)\n",
        "        self.bn3=nn.BatchNorm2d(num_features=32)\n",
        "        self.relu3=nn.ReLU()\n",
        "        #Shape= (256,32,75,75)\n",
        "\n",
        "        self.fc=nn.Linear(in_features=75 * 75 * 32,out_features=num_classes)\n",
        "\n",
        "\n",
        "\n",
        "    def forward(self,input):\n",
        "        output=self.conv1(input)\n",
        "        output=self.bn1(output)\n",
        "        output=self.relu1(output)\n",
        "\n",
        "        output=self.pool(output)\n",
        "\n",
        "        output=self.conv2(output)\n",
        "        output=self.relu2(output)\n",
        "\n",
        "        output=self.conv3(output)\n",
        "        output=self.bn3(output)\n",
        "        output=self.relu3(output)\n",
        "\n",
        "\n",
        "            #Above output will be in matrix form, with shape (256,32,75,75)\n",
        "\n",
        "        output=output.view(-1,32*75*75)\n",
        "\n",
        "\n",
        "        output=self.fc(output)\n",
        "\n",
        "        return output"
      ],
      "metadata": {
        "id": "e15qznp2d5Kp"
      },
      "execution_count": null,
      "outputs": []
    },
    {
      "cell_type": "code",
      "source": [
        "num_epochs=10\n",
        "learning_rate=0.001"
      ],
      "metadata": {
        "id": "6nzgq46V1Tbx"
      },
      "execution_count": null,
      "outputs": []
    },
    {
      "cell_type": "markdown",
      "source": [
        "## Spiral"
      ],
      "metadata": {
        "id": "hmJiB2hlBtLI"
      }
    },
    {
      "cell_type": "code",
      "source": [
        "spiral_train_path='drive/MyDrive/parkinsons/Spiral'\n",
        "spiral_test_path='drive/MyDrive/parkinsons/Test/Test Spiral'"
      ],
      "metadata": {
        "id": "OORJMQUTBv-f"
      },
      "execution_count": null,
      "outputs": []
    },
    {
      "cell_type": "code",
      "source": [
        "spiral_train_loader=DataLoader(\n",
        "    torchvision.datasets.ImageFolder(spiral_train_path,transform=transformer),\n",
        "    batch_size=64, shuffle=True\n",
        ")\n",
        "\n",
        "spiral_test_loader=DataLoader(\n",
        "    torchvision.datasets.ImageFolder(spiral_test_path,transform=transformer),\n",
        "    batch_size=32, shuffle=True\n",
        ")"
      ],
      "metadata": {
        "id": "CQTXemq0B0wy"
      },
      "execution_count": null,
      "outputs": []
    },
    {
      "cell_type": "code",
      "source": [
        "root=pathlib.Path(spiral_train_path)\n",
        "classes=sorted([j.name.split('/')[-1] for j in root.iterdir()])\n",
        "print(\"Train classes: \" + str(classes))\n",
        "\n",
        "root_t=pathlib.Path(spiral_test_path)\n",
        "classes=sorted([j.name.split('/')[-1] for j in root_t.iterdir()])\n",
        "print(\"Test classes:  \" + str(classes))"
      ],
      "metadata": {
        "colab": {
          "base_uri": "https://localhost:8080/"
        },
        "id": "U93M2c6OB89b",
        "outputId": "9e948788-6413-4d23-96a1-e992d65916b0"
      },
      "execution_count": null,
      "outputs": [
        {
          "output_type": "stream",
          "name": "stdout",
          "text": [
            "Train classes: ['HealthySpiral', 'PatientSpiral']\n",
            "Test classes:  ['HealthySpiral', 'PatientSpiral']\n"
          ]
        }
      ]
    },
    {
      "cell_type": "code",
      "source": [
        "train_count=len(glob.glob(spiral_train_path+'/**/*.jpg'))\n",
        "test_count=len(glob.glob(spiral_test_path+'/**/*.jpg'))\n",
        "\n",
        "print(train_count,test_count)"
      ],
      "metadata": {
        "colab": {
          "base_uri": "https://localhost:8080/"
        },
        "id": "9CC7Vb5xCcO-",
        "outputId": "337fcd5a-2a5e-4dec-de90-46a0fb3c8743"
      },
      "execution_count": null,
      "outputs": [
        {
          "output_type": "stream",
          "name": "stdout",
          "text": [
            "248 20\n"
          ]
        }
      ]
    },
    {
      "cell_type": "code",
      "source": [
        "spiral_model=ConvNet(num_classes=2).to(device)\n",
        "\n",
        "optimizer=Adam(spiral_model.parameters(),lr=learning_rate,weight_decay=0.0001)\n",
        "loss_function=nn.CrossEntropyLoss()"
      ],
      "metadata": {
        "id": "rsAJ3HKVDvX4"
      },
      "execution_count": null,
      "outputs": []
    },
    {
      "cell_type": "code",
      "source": [
        "best_accuracy=0.0\n",
        "\n",
        "for epoch in range(num_epochs):\n",
        "\n",
        "    spiral_model.train()\n",
        "    train_accuracy=0.0\n",
        "    train_loss=0.0\n",
        "\n",
        "    for i, (images,labels) in enumerate(spiral_train_loader):\n",
        "        if torch.cuda.is_available():\n",
        "            images=Variable(images.cuda())\n",
        "            labels=Variable(labels.cuda())\n",
        "\n",
        "        optimizer.zero_grad()\n",
        "\n",
        "        outputs=spiral_model(images)\n",
        "        loss=loss_function(outputs,labels)\n",
        "        loss.backward()\n",
        "        optimizer.step()\n",
        "\n",
        "        train_loss+= loss.cpu().data*images.size(0)\n",
        "        _,prediction=torch.max(outputs.data,1)\n",
        "\n",
        "        train_accuracy+=int(torch.sum(prediction==labels.data))\n",
        "\n",
        "    train_accuracy=train_accuracy/train_count\n",
        "    train_loss=train_loss/train_count\n",
        "\n",
        "\n",
        "\n",
        "\n",
        "    spiral_model.eval()\n",
        "\n",
        "    test_accuracy=0.0\n",
        "    for i, (images,labels) in enumerate(spiral_test_loader):\n",
        "        if torch.cuda.is_available():\n",
        "            images=Variable(images.cuda())\n",
        "            labels=Variable(labels.cuda())\n",
        "\n",
        "        outputs=spiral_model(images)\n",
        "        _,prediction=torch.max(outputs.data,1)\n",
        "        test_accuracy+=int(torch.sum(prediction==labels.data))\n",
        "\n",
        "    test_accuracy=test_accuracy/test_count\n",
        "\n",
        "\n",
        "    print('Epoch: '+str(epoch)+' Train Loss: '+str(train_loss)+' Train Accuracy: '+str(train_accuracy)+' Test Accuracy: '+str(test_accuracy))\n",
        "\n",
        "\n",
        "\n",
        "\n",
        "    if test_accuracy>best_accuracy:\n",
        "        torch.save(spiral_model.state_dict(),'best_checkpoint.spiral_model')\n",
        "        best_accuracy=test_accuracy\n",
        ""
      ],
      "metadata": {
        "colab": {
          "base_uri": "https://localhost:8080/"
        },
        "id": "1v5Tym4EDvxJ",
        "outputId": "c78fabf3-a7eb-40dd-c380-8ea03ec86a73"
      },
      "execution_count": null,
      "outputs": [
        {
          "output_type": "stream",
          "name": "stdout",
          "text": [
            "Epoch: 0 Train Loss: tensor(7.1405) Train Accuracy: 0.5725806451612904 Test Accuracy: 0.5\n",
            "Epoch: 1 Train Loss: tensor(4.4622) Train Accuracy: 0.842741935483871 Test Accuracy: 0.65\n",
            "Epoch: 2 Train Loss: tensor(3.0238) Train Accuracy: 0.8790322580645161 Test Accuracy: 0.8\n",
            "Epoch: 3 Train Loss: tensor(1.7356) Train Accuracy: 0.9032258064516129 Test Accuracy: 0.85\n",
            "Epoch: 4 Train Loss: tensor(1.2199) Train Accuracy: 0.9314516129032258 Test Accuracy: 0.8\n",
            "Epoch: 5 Train Loss: tensor(0.7668) Train Accuracy: 0.9516129032258065 Test Accuracy: 0.8\n",
            "Epoch: 6 Train Loss: tensor(0.3514) Train Accuracy: 0.9516129032258065 Test Accuracy: 0.75\n",
            "Epoch: 7 Train Loss: tensor(0.2768) Train Accuracy: 0.9717741935483871 Test Accuracy: 0.8\n",
            "Epoch: 8 Train Loss: tensor(0.0600) Train Accuracy: 0.9959677419354839 Test Accuracy: 0.9\n",
            "Epoch: 9 Train Loss: tensor(0.2322) Train Accuracy: 0.9637096774193549 Test Accuracy: 0.9\n"
          ]
        }
      ]
    },
    {
      "cell_type": "markdown",
      "source": [
        "# Meander"
      ],
      "metadata": {
        "id": "W8mj6EXpSRQW"
      }
    },
    {
      "cell_type": "code",
      "source": [
        "meander_train_path='drive/MyDrive/parkinsons/Meander'\n",
        "meander_test_path='drive/MyDrive/parkinsons/Test/Test Meander'"
      ],
      "metadata": {
        "id": "MeDbhMIGSTYG"
      },
      "execution_count": null,
      "outputs": []
    },
    {
      "cell_type": "code",
      "source": [
        "meander_train_loader=DataLoader(\n",
        "    torchvision.datasets.ImageFolder(meander_train_path,transform=transformer),\n",
        "    batch_size=64, shuffle=True\n",
        ")\n",
        "\n",
        "meander_test_loader=DataLoader(\n",
        "    torchvision.datasets.ImageFolder(meander_test_path,transform=transformer),\n",
        "    batch_size=32, shuffle=True\n",
        ")"
      ],
      "metadata": {
        "id": "zI5niO7aSWwO"
      },
      "execution_count": null,
      "outputs": []
    },
    {
      "cell_type": "code",
      "source": [
        "root=pathlib.Path(meander_train_path)\n",
        "classes=sorted([j.name.split('/')[-1] for j in root.iterdir()])\n",
        "print(\"Train classes: \" + str(classes))\n",
        "\n",
        "root_t=pathlib.Path(meander_test_path)\n",
        "classes=sorted([j.name.split('/')[-1] for j in root_t.iterdir()])\n",
        "print(\"Test classes:  \" + str(classes))"
      ],
      "metadata": {
        "id": "YMjGldWQSsGz"
      },
      "execution_count": null,
      "outputs": []
    },
    {
      "cell_type": "code",
      "source": [
        "train_count=len(glob.glob(meander_train_path+'/**/*.jpg'))\n",
        "test_count=len(glob.glob(meander_test_path+'/**/*.jpg'))\n",
        "\n",
        "print(train_count,test_count)"
      ],
      "metadata": {
        "id": "BrN8lM8nSs47"
      },
      "execution_count": null,
      "outputs": []
    },
    {
      "cell_type": "code",
      "source": [
        "meander_model=ConvNet(num_classes=2).to(device)\n",
        "\n",
        "optimizer=Adam(meander_model.parameters(),lr=learning_rate,weight_decay=0.0001)\n",
        "loss_function=nn.CrossEntropyLoss()"
      ],
      "metadata": {
        "id": "_Y5T9jogSunn"
      },
      "execution_count": null,
      "outputs": []
    },
    {
      "cell_type": "code",
      "source": [
        "best_accuracy=0.0\n",
        "\n",
        "for epoch in range(num_epochs):\n",
        "\n",
        "    meander_model.train()\n",
        "    train_accuracy=0.0\n",
        "    train_loss=0.0\n",
        "\n",
        "    for i, (images,labels) in enumerate(meander_train_loader):\n",
        "        if torch.cuda.is_available():\n",
        "            images=Variable(images.cuda())\n",
        "            labels=Variable(labels.cuda())\n",
        "\n",
        "        optimizer.zero_grad()\n",
        "\n",
        "        outputs=meander_model(images)\n",
        "        loss=loss_function(outputs,labels)\n",
        "        loss.backward()\n",
        "        optimizer.step()\n",
        "\n",
        "        train_loss+= loss.cpu().data*images.size(0)\n",
        "        _,prediction=torch.max(outputs.data,1)\n",
        "\n",
        "        train_accuracy+=int(torch.sum(prediction==labels.data))\n",
        "\n",
        "    train_accuracy=train_accuracy/train_count\n",
        "    train_loss=train_loss/train_count\n",
        "\n",
        "\n",
        "\n",
        "\n",
        "    meander_model.eval()\n",
        "\n",
        "    test_accuracy=0.0\n",
        "    for i, (images,labels) in enumerate(meander_test_loader):\n",
        "        if torch.cuda.is_available():\n",
        "            images=Variable(images.cuda())\n",
        "            labels=Variable(labels.cuda())\n",
        "\n",
        "        outputs=meander_model(images)\n",
        "        _,prediction=torch.max(outputs.data,1)\n",
        "        test_accuracy+=int(torch.sum(prediction==labels.data))\n",
        "\n",
        "    test_accuracy=test_accuracy/test_count\n",
        "\n",
        "\n",
        "    print('Epoch: '+str(epoch)+' Train Loss: '+str(train_loss)+' Train Accuracy: '+str(train_accuracy)+' Test Accuracy: '+str(test_accuracy))\n",
        "\n",
        "\n",
        "\n",
        "\n",
        "    if test_accuracy>best_accuracy:\n",
        "        torch.save(meander_model.state_dict(),'best_checkpoint.meander_model')\n",
        "        best_accuracy=test_accuracy"
      ],
      "metadata": {
        "id": "lcEHXfEiSwPR"
      },
      "execution_count": null,
      "outputs": []
    },
    {
      "cell_type": "markdown",
      "source": [
        "# Circle"
      ],
      "metadata": {
        "id": "v0OlkTAtS2yx"
      }
    },
    {
      "cell_type": "code",
      "source": [
        "circle_train_path='drive/MyDrive/parkinsons/Circle'\n",
        "circle_test_path='drive/MyDrive/parkinsons/Test/Test Circle'"
      ],
      "metadata": {
        "id": "cajwucXI9k_A"
      },
      "execution_count": null,
      "outputs": []
    },
    {
      "cell_type": "code",
      "source": [
        "circle_train_loader=DataLoader(\n",
        "    torchvision.datasets.ImageFolder(circle_train_path,transform=transformer),\n",
        "    batch_size=64, shuffle=True\n",
        ")\n",
        "\n",
        "circle_test_loader=DataLoader(\n",
        "    torchvision.datasets.ImageFolder(circle_test_path,transform=transformer),\n",
        "    batch_size=32, shuffle=True\n",
        ")"
      ],
      "metadata": {
        "id": "-Y9EE7rE9pIE"
      },
      "execution_count": null,
      "outputs": []
    },
    {
      "cell_type": "code",
      "source": [
        "root=pathlib.Path(circle_train_path)\n",
        "classes=sorted([j.name.split('/')[-1] for j in root.iterdir()])\n",
        "print(\"Train classes: \" + str(classes))\n",
        "\n",
        "root_t=pathlib.Path(circle_test_path)\n",
        "classes=sorted([j.name.split('/')[-1] for j in root_t.iterdir()])\n",
        "print(\"Test classes:  \" + str(classes))"
      ],
      "metadata": {
        "id": "NxaTYA2Y95Hx"
      },
      "execution_count": null,
      "outputs": []
    },
    {
      "cell_type": "code",
      "source": [
        "train_count=len(glob.glob(circle_train_path+'/**/*.jpg'))\n",
        "test_count=len(glob.glob(circle_test_path+'/**/*.jpg'))\n",
        "\n",
        "print(train_count,test_count)"
      ],
      "metadata": {
        "id": "xUfwtdas-A6L"
      },
      "execution_count": null,
      "outputs": []
    },
    {
      "cell_type": "code",
      "source": [
        "circle_model=ConvNet(num_classes=2).to(device)\n",
        "\n",
        "optimizer=Adam(circle_model.parameters(),lr=learning_rate,weight_decay=0.0001)\n",
        "loss_function=nn.CrossEntropyLoss()"
      ],
      "metadata": {
        "id": "cbcuCJOu-cnm"
      },
      "execution_count": null,
      "outputs": []
    },
    {
      "cell_type": "code",
      "source": [
        "best_accuracy=0.0\n",
        "\n",
        "for epoch in range(num_epochs):\n",
        "\n",
        "    circle_model.train()\n",
        "    train_accuracy=0.0\n",
        "    train_loss=0.0\n",
        "\n",
        "    for i, (images,labels) in enumerate(circle_train_loader):\n",
        "        if torch.cuda.is_available():\n",
        "            images=Variable(images.cuda())\n",
        "            labels=Variable(labels.cuda())\n",
        "\n",
        "        optimizer.zero_grad()\n",
        "\n",
        "        outputs=circle_model(images)\n",
        "        loss=loss_function(outputs,labels)\n",
        "        loss.backward()\n",
        "        optimizer.step()\n",
        "\n",
        "        train_loss+= loss.cpu().data*images.size(0)\n",
        "        _,prediction=torch.max(outputs.data,1)\n",
        "\n",
        "        train_accuracy+=int(torch.sum(prediction==labels.data))\n",
        "\n",
        "    train_accuracy=train_accuracy/train_count\n",
        "    train_loss=train_loss/train_count\n",
        "\n",
        "\n",
        "\n",
        "\n",
        "    circle_model.eval()\n",
        "\n",
        "    test_accuracy=0.0\n",
        "    for i, (images,labels) in enumerate(circle_test_loader):\n",
        "        if torch.cuda.is_available():\n",
        "            images=Variable(images.cuda())\n",
        "            labels=Variable(labels.cuda())\n",
        "\n",
        "        outputs=circle_model(images)\n",
        "        _,prediction=torch.max(outputs.data,1)\n",
        "        test_accuracy+=int(torch.sum(prediction==labels.data))\n",
        "\n",
        "    test_accuracy=test_accuracy/test_count\n",
        "\n",
        "\n",
        "    print('Epoch: '+str(epoch)+' Train Loss: '+str(train_loss)+' Train Accuracy: '+str(train_accuracy)+' Test Accuracy: '+str(test_accuracy))\n",
        "\n",
        "\n",
        "\n",
        "\n",
        "    if test_accuracy>best_accuracy:\n",
        "        torch.save(circle_model.state_dict(),'best_checkpoint.circle_model')\n",
        "        best_accuracy=test_accuracy"
      ],
      "metadata": {
        "id": "C0MbmMpG-iNw"
      },
      "execution_count": null,
      "outputs": []
    }
  ]
}